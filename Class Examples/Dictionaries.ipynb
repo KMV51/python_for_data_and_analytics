{
 "cells": [
  {
   "cell_type": "code",
   "execution_count": 1,
   "metadata": {},
   "outputs": [],
   "source": [
    "shopping_list = {}\n"
   ]
  },
  {
   "cell_type": "code",
   "execution_count": 3,
   "metadata": {},
   "outputs": [
    {
     "name": "stdout",
     "output_type": "stream",
     "text": [
      "{'Bananas': 1.99, 'Tomatoes': 3.99, 'Blueberries': 5.99, 'Milk': 5.99, 'Eggs': 2.99}\n"
     ]
    }
   ],
   "source": [
    "shopping_list[\"Bananas\"] = 1.99\n",
    "shopping_list[\"Tomatoes\"] = 3.99\n",
    "shopping_list[\"Blueberries\"] = 5.99\n",
    "shopping_list[\"Milk\"] = 5.99\n",
    "shopping_list[\"Eggs\"] = 2.99\n",
    "print(shopping_list)"
   ]
  },
  {
   "cell_type": "code",
   "execution_count": 7,
   "metadata": {},
   "outputs": [
    {
     "name": "stdout",
     "output_type": "stream",
     "text": [
      "2.99\n"
     ]
    }
   ],
   "source": [
    "print(shopping_list[\"Eggs\"])"
   ]
  },
  {
   "cell_type": "code",
   "execution_count": 15,
   "metadata": {},
   "outputs": [
    {
     "name": "stdout",
     "output_type": "stream",
     "text": [
      "{'Bananas': 1.99, 'Tomatoes': 3.99, 'Milk': 5.99, 'Eggs': 2.99, 'Blueberries': 7.99}\n"
     ]
    }
   ],
   "source": [
    "shopping_list[\"Blueberries\"] = 7.99\n",
    "print(shopping_list)"
   ]
  },
  {
   "cell_type": "code",
   "execution_count": 16,
   "metadata": {},
   "outputs": [
    {
     "name": "stdout",
     "output_type": "stream",
     "text": [
      "{'Bananas': 1.99, 'Tomatoes': 3.99, 'Milk': 5.99, 'Eggs': 2.99}\n"
     ]
    }
   ],
   "source": [
    "del shopping_list[\"Blueberries\"]\n",
    "print(shopping_list)"
   ]
  },
  {
   "cell_type": "code",
   "execution_count": 24,
   "metadata": {},
   "outputs": [
    {
     "name": "stdout",
     "output_type": "stream",
     "text": [
      "Total cost: 14.96\n",
      "Average:  3.74\n"
     ]
    }
   ],
   "source": [
    "total = 0\n",
    "avg = 0\n",
    "\n",
    "#print(shopping_list.items())\n",
    "for k, v in shopping_list.items():\n",
    "    total = total + v\n",
    "    \n",
    "print(\"Total cost: \" + str(total))\n",
    "print(\"Average: \", total / len(shopping_list))"
   ]
  },
  {
   "cell_type": "code",
   "execution_count": 8,
   "metadata": {},
   "outputs": [],
   "source": [
    "employees = {\n",
    "    '1':'Bob',\n",
    "    '2':'John',\n",
    "    '3':'Kate',\n",
    "    '4':'Jane'\n",
    "}"
   ]
  },
  {
   "cell_type": "code",
   "execution_count": 9,
   "metadata": {},
   "outputs": [
    {
     "data": {
      "text/plain": [
       "'Bob'"
      ]
     },
     "execution_count": 9,
     "metadata": {},
     "output_type": "execute_result"
    }
   ],
   "source": [
    "employees['1']"
   ]
  },
  {
   "cell_type": "code",
   "execution_count": null,
   "metadata": {},
   "outputs": [],
   "source": []
  }
 ],
 "metadata": {
  "kernelspec": {
   "display_name": "Python 3",
   "language": "python",
   "name": "python3"
  },
  "language_info": {
   "codemirror_mode": {
    "name": "ipython",
    "version": 3
   },
   "file_extension": ".py",
   "mimetype": "text/x-python",
   "name": "python",
   "nbconvert_exporter": "python",
   "pygments_lexer": "ipython3",
   "version": "3.7.4"
  }
 },
 "nbformat": 4,
 "nbformat_minor": 2
}
