{
 "cells": [
  {
   "cell_type": "markdown",
   "metadata": {},
   "source": [
    "1. Reading text files\n",
    "2. Reading CSV files\n",
    "3. Creating data matrix\n",
    "4. Creating lists of dictionaries\n",
    "5. Creating dictionaries of lists\n",
    "6. Error Handling"
   ]
  },
  {
   "cell_type": "code",
   "execution_count": 31,
   "metadata": {},
   "outputs": [],
   "source": [
    "def is_float(val):\n",
    "    try:\n",
    "        y = float(val)\n",
    "        return True\n",
    "    except:\n",
    "        return False\n",
    "\n",
    "    "
   ]
  },
  {
   "cell_type": "code",
   "execution_count": 41,
   "metadata": {},
   "outputs": [
    {
     "name": "stdout",
     "output_type": "stream",
     "text": [
      "2018/03/16\n",
      "28.41\n",
      "125084.0\n",
      "28.35\n",
      "28.57\n",
      "28.21\n"
     ]
    }
   ],
   "source": [
    "# Example of iterating through a list by index\n",
    "some_list = ['2018/03/16', 28.41, 125084.0, 28.35, 28.57, 28.21]\n",
    "#print(len(some_list))\n",
    "\n",
    "for i in range(len(some_list)):\n",
    "    print(some_list[i])\n",
    "    "
   ]
  },
  {
   "cell_type": "code",
   "execution_count": 34,
   "metadata": {},
   "outputs": [],
   "source": [
    "def convert_row_to_float(row):\n",
    "    for i in range(len(row)):\n",
    "        if is_float(row[i]):\n",
    "            row[i] = float(row[i])\n",
    "    return row"
   ]
  },
  {
   "cell_type": "code",
   "execution_count": 35,
   "metadata": {},
   "outputs": [],
   "source": [
    "f = open('stocks.csv') # Open file\n",
    "rows = f.readlines() # Reading individual lines of text\n",
    "# print(lines)\n",
    "\n",
    "matrix = [] # Global variable\n",
    "\n",
    "# Note that I'm starting with item in position of 1 instead of 0\n",
    "# This will remove the first row of data (headers)\n",
    "for row in rows[1:]:\n",
    "    row = row.replace('\\n', '') # Remove new line character\n",
    "    row = row.replace('\"', '') # Remove \"\"\n",
    "    if row != '':\n",
    "        row = row.split(',')\n",
    "        row = convert_row_to_float(row)\n",
    "            \n",
    "        matrix.append(row)\n",
    "        #print(row)"
   ]
  },
  {
   "cell_type": "code",
   "execution_count": 36,
   "metadata": {},
   "outputs": [
    {
     "name": "stdout",
     "output_type": "stream",
     "text": [
      "['2018/03/16', 28.41, 125084.0, 28.35, 28.57, 28.21]\n"
     ]
    }
   ],
   "source": [
    "print(matrix[0])"
   ]
  },
  {
   "cell_type": "code",
   "execution_count": null,
   "metadata": {},
   "outputs": [],
   "source": []
  },
  {
   "cell_type": "markdown",
   "metadata": {},
   "source": [
    "### Reading CSV files"
   ]
  },
  {
   "cell_type": "code",
   "execution_count": 42,
   "metadata": {},
   "outputs": [],
   "source": [
    "import csv"
   ]
  },
  {
   "cell_type": "code",
   "execution_count": 61,
   "metadata": {},
   "outputs": [
    {
     "name": "stdout",
     "output_type": "stream",
     "text": [
      "28.41\n"
     ]
    }
   ],
   "source": [
    "f = open('stocks.csv') # Open the text file\n",
    "f.seek(0) # Go to the beginning of the file\n",
    "csv_reader = csv.reader(f, delimiter=',')\n",
    "next(csv_reader) # Skip header row\n",
    "matrix = []\n",
    "for row in csv_reader: \n",
    "    if len(row) > 0:\n",
    "        # Create dictionary\n",
    "        d = {}\n",
    "        d['date'] = row[0]\n",
    "        d['close'] = float(row[1])\n",
    "        d['volume'] = float(row[2])\n",
    "        d['open'] = float(row[3])\n",
    "        d['high'] = float(row[4])\n",
    "        d['low'] = float(row[5])\n",
    "\n",
    "        matrix.append(d)\n",
    "\n",
    "print(matrix[0]['close'])"
   ]
  },
  {
   "cell_type": "code",
   "execution_count": 63,
   "metadata": {},
   "outputs": [],
   "source": [
    "def search_dataset(dataset, search_term, col_name):\n",
    "    for row in dataset:\n",
    "        if str(row[col_name]) == str(search_term):\n",
    "            return row\n",
    "        else:\n",
    "            return \"Not found\""
   ]
  },
  {
   "cell_type": "code",
   "execution_count": 64,
   "metadata": {},
   "outputs": [
    {
     "data": {
      "text/plain": [
       "{'date': '2018/03/16',\n",
       " 'close': 28.41,\n",
       " 'volume': 125084.0,\n",
       " 'open': 28.35,\n",
       " 'high': 28.57,\n",
       " 'low': 28.21}"
      ]
     },
     "execution_count": 64,
     "metadata": {},
     "output_type": "execute_result"
    }
   ],
   "source": [
    "search_dataset(matrix, '28.41', 'close')"
   ]
  },
  {
   "cell_type": "markdown",
   "metadata": {},
   "source": [
    "### Creating a dictionary of lists\n"
   ]
  },
  {
   "cell_type": "code",
   "execution_count": 69,
   "metadata": {},
   "outputs": [
    {
     "name": "stdout",
     "output_type": "stream",
     "text": [
      "['2018/02/16', '27.6400', '211522.0000', '26.4900', '27.9000', '26.4800']\n"
     ]
    }
   ],
   "source": [
    "f = open('stocks.csv') # Open the text file\n",
    "f.seek(0) # Go to the beginning of the file\n",
    "csv_reader = csv.reader(f, delimiter=',')\n",
    "next(csv_reader) # Skip header row\n",
    "\n",
    "matrix = {} # Note that matrix is now a dictionary, not a list\n",
    "for row in csv_reader: \n",
    "    if len(row) > 0:\n",
    "        date = row[0]\n",
    "        matrix[date] = row\n",
    "\n",
    "print(matrix['2018/02/16'])"
   ]
  },
  {
   "cell_type": "code",
   "execution_count": 70,
   "metadata": {},
   "outputs": [],
   "source": [
    "d = {}\n",
    "#\"2018/03/16\",\"28.4100\",\"125084.0000\",\"28.3500\",\"28.5700\",\"28.2100\"\n",
    "d[\"2018/03/16\"] = [\"2018/03/16\",\"28.4100\",\"125084.0000\",\"28.3500\",\"28.5700\",\"28.2100\"]"
   ]
  },
  {
   "cell_type": "code",
   "execution_count": 71,
   "metadata": {},
   "outputs": [
    {
     "name": "stdout",
     "output_type": "stream",
     "text": [
      "{'2018/03/16': ['2018/03/16', '28.4100', '125084.0000', '28.3500', '28.5700', '28.2100']}\n"
     ]
    }
   ],
   "source": [
    "print(d)"
   ]
  },
  {
   "cell_type": "code",
   "execution_count": null,
   "metadata": {},
   "outputs": [],
   "source": []
  }
 ],
 "metadata": {
  "kernelspec": {
   "display_name": "Python 3",
   "language": "python",
   "name": "python3"
  },
  "language_info": {
   "codemirror_mode": {
    "name": "ipython",
    "version": 3
   },
   "file_extension": ".py",
   "mimetype": "text/x-python",
   "name": "python",
   "nbconvert_exporter": "python",
   "pygments_lexer": "ipython3",
   "version": "3.7.4"
  }
 },
 "nbformat": 4,
 "nbformat_minor": 4
}
