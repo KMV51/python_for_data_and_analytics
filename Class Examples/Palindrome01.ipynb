{
 "cells": [
  {
   "cell_type": "markdown",
   "metadata": {},
   "source": [
    "### Examples of Palindromes:\n",
    "* Bob\n",
    "* race car"
   ]
  },
  {
   "cell_type": "markdown",
   "metadata": {},
   "source": [
    "### Algorithm for identifying palindromes\n",
    "1. Read in user input\n",
    "2. Convert input to either lowercase or uppercase\n",
    "3. Remove all non-alpha characters\n",
    "4. Reverse user input\n",
    "5. Compare \"cleaned\" user input with reversed user input"
   ]
  },
  {
   "cell_type": "code",
   "execution_count": 56,
   "metadata": {},
   "outputs": [
    {
     "name": "stdout",
     "output_type": "stream",
     "text": [
      "Please enter a palindrome: Eva, can I see bees in a cave?\n",
      "Eva, can I see bees in a cave?\n"
     ]
    }
   ],
   "source": [
    "# Read user input\n",
    "user_input = input(\"Please enter a palindrome: \")\n",
    "print(user_input)"
   ]
  },
  {
   "cell_type": "code",
   "execution_count": 57,
   "metadata": {},
   "outputs": [],
   "source": [
    "# Convert input to either lowercase or uppercase\n",
    "clean_input = user_input.lower()\n",
    "clean_input = clean_input.strip()\n",
    "\n",
    "#range(97:123)"
   ]
  },
  {
   "cell_type": "code",
   "execution_count": 58,
   "metadata": {},
   "outputs": [
    {
     "name": "stdout",
     "output_type": "stream",
     "text": [
      "Checking letter e\n",
      "e\n",
      "Checking letter v\n",
      "ev\n",
      "Checking letter a\n",
      "eva\n",
      "Checking letter c\n",
      "evac\n",
      "Checking letter a\n",
      "evaca\n",
      "Checking letter n\n",
      "evacan\n",
      "Checking letter i\n",
      "evacani\n",
      "Checking letter s\n",
      "evacanis\n",
      "Checking letter e\n",
      "evacanise\n",
      "Checking letter e\n",
      "evacanisee\n",
      "Checking letter b\n",
      "evacaniseeb\n",
      "Checking letter e\n",
      "evacaniseebe\n",
      "Checking letter e\n",
      "evacaniseebee\n",
      "Checking letter s\n",
      "evacaniseebees\n",
      "Checking letter i\n",
      "evacaniseebeesi\n",
      "Checking letter n\n",
      "evacaniseebeesin\n",
      "Checking letter a\n",
      "evacaniseebeesina\n",
      "Checking letter c\n",
      "evacaniseebeesinac\n",
      "Checking letter a\n",
      "evacaniseebeesinaca\n",
      "Checking letter v\n",
      "evacaniseebeesinacav\n",
      "Checking letter e\n",
      "evacaniseebeesinacave\n"
     ]
    }
   ],
   "source": [
    "# Remove all non-alpha characters\n",
    "\n",
    "filtered_input = ''\n",
    "for i in range(0,len(clean_input)):\n",
    "    if ord(clean_input[i]) in range(97,123):\n",
    "        print(\"Checking letter \" + clean_input[i])\n",
    "        filtered_input = filtered_input + clean_input[i]\n",
    "        print(filtered_input)"
   ]
  },
  {
   "cell_type": "code",
   "execution_count": 59,
   "metadata": {},
   "outputs": [
    {
     "name": "stdout",
     "output_type": "stream",
     "text": [
      "evacaniseebeesinacave\n"
     ]
    }
   ],
   "source": [
    "# Reverse user input\n",
    "reversed_input = filtered_input[::-1]\n",
    "print(reversed_input)"
   ]
  },
  {
   "cell_type": "code",
   "execution_count": 60,
   "metadata": {},
   "outputs": [
    {
     "name": "stdout",
     "output_type": "stream",
     "text": [
      "Eva, can I see bees in a cave? is a palindrome\n"
     ]
    }
   ],
   "source": [
    "if reversed_input == filtered_input:\n",
    "    print(user_input + \" is a palindrome\")\n",
    "else:\n",
    "    print(user_input + \" is not a palindrome\")"
   ]
  },
  {
   "cell_type": "code",
   "execution_count": null,
   "metadata": {},
   "outputs": [],
   "source": []
  }
 ],
 "metadata": {
  "kernelspec": {
   "display_name": "Python 3",
   "language": "python",
   "name": "python3"
  },
  "language_info": {
   "codemirror_mode": {
    "name": "ipython",
    "version": 3
   },
   "file_extension": ".py",
   "mimetype": "text/x-python",
   "name": "python",
   "nbconvert_exporter": "python",
   "pygments_lexer": "ipython3",
   "version": "3.7.4"
  }
 },
 "nbformat": 4,
 "nbformat_minor": 2
}
