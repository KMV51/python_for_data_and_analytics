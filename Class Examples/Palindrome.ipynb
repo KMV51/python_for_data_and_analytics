{
 "cells": [
  {
   "cell_type": "markdown",
   "metadata": {},
   "source": [
    "### Palindrome Algorithm\n",
    "1. Get user input\n",
    "2. Convert input to lower case\n",
    "3. Remove spaces\n",
    "4. Remove special characters & punctuation marks\n",
    "5. Reverse the input string\n",
    "6. Compare \"cleaned\" original string with reversed string\n"
   ]
  },
  {
   "cell_type": "code",
   "execution_count": 62,
   "metadata": {},
   "outputs": [
    {
     "name": "stdout",
     "output_type": "stream",
     "text": [
      "Please enter a phrase or a wordHello world\n",
      "Original phrase: Hello world\n"
     ]
    }
   ],
   "source": [
    "# Step 1: Get user input\n",
    "phrase = input(\"Please enter a phrase or a word\")\n",
    "print(\"Original phrase: \" + phrase)"
   ]
  },
  {
   "cell_type": "code",
   "execution_count": 63,
   "metadata": {},
   "outputs": [
    {
     "name": "stdout",
     "output_type": "stream",
     "text": [
      "Converted to lower case: hello world\n"
     ]
    }
   ],
   "source": [
    "# Step 2: Convert input to lower case\n",
    "phrase = phrase.lower().strip()\n",
    "\n",
    "print(\"Converted to lower case: \" + phrase)"
   ]
  },
  {
   "cell_type": "code",
   "execution_count": 64,
   "metadata": {},
   "outputs": [
    {
     "name": "stdout",
     "output_type": "stream",
     "text": [
      "Removed spaces: helloworld\n"
     ]
    }
   ],
   "source": [
    "# Step 3: Remove spaces\n",
    "phrase = phrase.replace(' ', '')\n",
    "print(\"Removed spaces: \" + phrase)"
   ]
  },
  {
   "cell_type": "code",
   "execution_count": 65,
   "metadata": {},
   "outputs": [
    {
     "name": "stdout",
     "output_type": "stream",
     "text": [
      "helloworld\n"
     ]
    }
   ],
   "source": [
    "# Step 4: Remove special characters & punctuation marks\n",
    "# Iterate through a string and check characters one-by-one\n",
    "illegal_chars = ['!','.', ' ', '@', '#', '$', '^', '&', '*', '(', ')',',',':',';','?']\n",
    "clean_phrase = ''\n",
    "for i in range(0, len(phrase)):\n",
    "    if phrase[i] not in illegal_chars:\n",
    "        #print(phrase[i])\n",
    "        clean_phrase = clean_phrase + phrase[i]\n",
    "print(clean_phrase)\n"
   ]
  },
  {
   "cell_type": "code",
   "execution_count": 66,
   "metadata": {},
   "outputs": [
    {
     "name": "stdout",
     "output_type": "stream",
     "text": [
      "Reversed: dlrowolleh\n"
     ]
    }
   ],
   "source": [
    "# Step 5: Reverse the input string\n",
    "reversed_phrase = clean_phrase[::-1]\n",
    "print(\"Reversed: \" + reversed_phrase)"
   ]
  },
  {
   "cell_type": "code",
   "execution_count": 67,
   "metadata": {},
   "outputs": [
    {
     "name": "stdout",
     "output_type": "stream",
     "text": [
      "helloworld is not a palindrome\n"
     ]
    }
   ],
   "source": [
    "# Step 6: Compare the two strings\n",
    "if reversed_phrase == clean_phrase:\n",
    "    print(phrase + \" is a palindrome\")\n",
    "else:\n",
    "    print(phrase + \" is not a palindrome\")"
   ]
  },
  {
   "cell_type": "code",
   "execution_count": 48,
   "metadata": {},
   "outputs": [
    {
     "name": "stdout",
     "output_type": "stream",
     "text": [
      "somestuffhere\n"
     ]
    }
   ],
   "source": [
    "# Iterate through a string and check characters one-by-one\n",
    "illegal_chars = ['!','.', ' ', '@', '#', '$', '^', '&', '*', '(', ')',',',':',';','?']\n",
    "clean_phrase = ''\n",
    "\n",
    "temp = \"some ?stuff !here.\"\n",
    "for item in temp:\n",
    "    if item not in illegal_chars:\n",
    "        clean_phrase = clean_phrase + item\n",
    "\n",
    "print(clean_phrase)"
   ]
  },
  {
   "cell_type": "code",
   "execution_count": null,
   "metadata": {},
   "outputs": [],
   "source": []
  },
  {
   "cell_type": "code",
   "execution_count": null,
   "metadata": {},
   "outputs": [],
   "source": []
  },
  {
   "cell_type": "code",
   "execution_count": null,
   "metadata": {},
   "outputs": [],
   "source": []
  },
  {
   "cell_type": "code",
   "execution_count": null,
   "metadata": {},
   "outputs": [],
   "source": []
  }
 ],
 "metadata": {
  "kernelspec": {
   "display_name": "Python 3",
   "language": "python",
   "name": "python3"
  },
  "language_info": {
   "codemirror_mode": {
    "name": "ipython",
    "version": 3
   },
   "file_extension": ".py",
   "mimetype": "text/x-python",
   "name": "python",
   "nbconvert_exporter": "python",
   "pygments_lexer": "ipython3",
   "version": "3.7.4"
  }
 },
 "nbformat": 4,
 "nbformat_minor": 2
}
