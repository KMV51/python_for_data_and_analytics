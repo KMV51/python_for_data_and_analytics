{
 "cells": [
  {
   "cell_type": "markdown",
   "metadata": {},
   "source": [
    "### Algorithm to find anagrams of a word\n",
    "1. Get user input\n",
    "2. Put input's letters in lexiographical order\n",
    "3. Open \"words\" file\n",
    "4. Read \"words\" file\n",
    "5. Create a list of words\n",
    "6. Iterate through list of words\n",
    "7. For each word:\n",
    "    * Put letters in lexiographical order\n",
    "    * Compare with sorted user input\n",
    "\n"
   ]
  },
  {
   "cell_type": "code",
   "execution_count": 31,
   "metadata": {},
   "outputs": [
    {
     "name": "stdout",
     "output_type": "stream",
     "text": [
      "Please enter a word: dictionary\n",
      "dictionary\n"
     ]
    }
   ],
   "source": [
    "# Get user input\n",
    "user_input = input(\"Please enter a word: \")\n",
    "print(user_input)"
   ]
  },
  {
   "cell_type": "code",
   "execution_count": 32,
   "metadata": {},
   "outputs": [
    {
     "name": "stdout",
     "output_type": "stream",
     "text": [
      "['a', 'c', 'd', 'i', 'i', 'n', 'o', 'r', 't', 'y']\n"
     ]
    }
   ],
   "source": [
    "# Put input's letters in lexiographical order\n",
    "input_sig = sorted(user_input)\n",
    "print(input_sig)"
   ]
  },
  {
   "cell_type": "code",
   "execution_count": 33,
   "metadata": {},
   "outputs": [
    {
     "name": "stdout",
     "output_type": "stream",
     "text": [
      "['a\\n', 'aa\\n', 'aaa\\n', 'aah\\n', 'aahed\\n', 'aahing\\n', 'aahs\\n', 'aal\\n', 'aalii\\n', 'aaliis\\n', 'aals\\n', 'aam\\n', 'aani\\n', 'aardvark\\n', 'aardvarks\\n', 'aardwolf\\n', 'aardwolves\\n', 'aargh\\n', 'aaron\\n', 'aaronic\\n']\n"
     ]
    }
   ],
   "source": [
    "# Open \"words\" file\n",
    "f = open(\"words.txt\")\n",
    "# Read the file\n",
    "words = f.readlines()\n",
    "print(words[0:20])"
   ]
  },
  {
   "cell_type": "code",
   "execution_count": 35,
   "metadata": {},
   "outputs": [
    {
     "name": "stdout",
     "output_type": "stream",
     "text": [
      "dictionary\n",
      "\n",
      "indicatory\n",
      "\n"
     ]
    }
   ],
   "source": [
    "for el in words:\n",
    "    el_sig = sorted(el.replace('\\n', ''))\n",
    "    if el_sig == input_sig:\n",
    "        print(el)\n",
    "    "
   ]
  },
  {
   "cell_type": "code",
   "execution_count": 36,
   "metadata": {},
   "outputs": [
    {
     "name": "stdout",
     "output_type": "stream",
     "text": [
      "[' ', 'H', 'd', 'e', 'l', 'l', 'l', 'o', 'o', 'r', 'w']\n"
     ]
    }
   ],
   "source": [
    "tmp = \"Hello world\"\n",
    "sig = sorted(tmp)\n",
    "print(sig)"
   ]
  },
  {
   "cell_type": "code",
   "execution_count": 38,
   "metadata": {},
   "outputs": [
    {
     "name": "stdout",
     "output_type": "stream",
     "text": [
      "[' ', 'H', 'd', 'e', 'l', 'l', 'l', 'o', 'o', 'r', 'w']\n"
     ]
    }
   ],
   "source": [
    "s = str(sig)\n",
    "print(s)"
   ]
  },
  {
   "cell_type": "code",
   "execution_count": 39,
   "metadata": {},
   "outputs": [
    {
     "name": "stdout",
     "output_type": "stream",
     "text": [
      " Hdellloorw\n"
     ]
    }
   ],
   "source": [
    "result = ''\n",
    "for c in sig:\n",
    "    result = result + c\n",
    "print(result)"
   ]
  },
  {
   "cell_type": "code",
   "execution_count": 40,
   "metadata": {},
   "outputs": [
    {
     "name": "stdout",
     "output_type": "stream",
     "text": [
      " Hdellloorw\n"
     ]
    }
   ],
   "source": [
    "result = ''.join(sig)\n",
    "print(result)"
   ]
  },
  {
   "cell_type": "code",
   "execution_count": 42,
   "metadata": {},
   "outputs": [],
   "source": [
    "anagram_dict = {}\n",
    "for word in words:\n",
    "    # Remover new line character\n",
    "    w = word.replace('\\n', '')\n",
    "    # Get word signature\n",
    "    w_sig = sorted(w)\n",
    "    # Convert signature list to a string\n",
    "    result = ''.join(w_sig)\n",
    "    if result not in anagram_dict.keys():\n",
    "        # Assume that the word signature has not been \n",
    "        # encountered yet\n",
    "        # In this case, we create a new dictionary element\n",
    "        # where the word signature is the key\n",
    "        # and the value is a list containing the word\n",
    "        anagram_dict[result] = [w]\n",
    "    else:\n",
    "        # We simply append a word to an existing signature\n",
    "        anagram_dict[result].append(w)\n",
    "        \n",
    "    \n",
    "        \n",
    "        "
   ]
  },
  {
   "cell_type": "code",
   "execution_count": 44,
   "metadata": {},
   "outputs": [
    {
     "name": "stdout",
     "output_type": "stream",
     "text": [
      "acdiinorty\n"
     ]
    },
    {
     "data": {
      "text/plain": [
       "['dictionary', 'indicatory']"
      ]
     },
     "execution_count": 44,
     "metadata": {},
     "output_type": "execute_result"
    }
   ],
   "source": [
    "key = ''.join(sorted('dictionary'))\n",
    "print(key)\n",
    "anagram_dict[key]"
   ]
  },
  {
   "cell_type": "code",
   "execution_count": null,
   "metadata": {},
   "outputs": [],
   "source": []
  }
 ],
 "metadata": {
  "kernelspec": {
   "display_name": "Python 3",
   "language": "python",
   "name": "python3"
  },
  "language_info": {
   "codemirror_mode": {
    "name": "ipython",
    "version": 3
   },
   "file_extension": ".py",
   "mimetype": "text/x-python",
   "name": "python",
   "nbconvert_exporter": "python",
   "pygments_lexer": "ipython3",
   "version": "3.7.4"
  }
 },
 "nbformat": 4,
 "nbformat_minor": 2
}
