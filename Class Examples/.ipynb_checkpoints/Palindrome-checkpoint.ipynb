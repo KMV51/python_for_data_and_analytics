{
 "cells": [
  {
   "cell_type": "markdown",
   "metadata": {},
   "source": [
    "### Palindrome Algorithm\n",
    "1. Get user input\n",
    "2. Convert input to lower case\n",
    "3. Remove spaces\n",
    "4. Remove special characters & punctuation marks\n",
    "5. Reverse the input string\n",
    "6. Compare \"cleaned\" original string with reversed string\n"
   ]
  },
  {
   "cell_type": "code",
   "execution_count": 7,
   "metadata": {},
   "outputs": [
    {
     "name": "stdout",
     "output_type": "stream",
     "text": [
      "Please enter a phrase or a wordrace car\n",
      "Original phrase: race car\n"
     ]
    }
   ],
   "source": [
    "# Step 1: Get user input\n",
    "phrase = input(\"Please enter a phrase or a word\")\n",
    "print(\"Original phrase: \" + phrase)"
   ]
  },
  {
   "cell_type": "code",
   "execution_count": 8,
   "metadata": {},
   "outputs": [
    {
     "name": "stdout",
     "output_type": "stream",
     "text": [
      "Converted to lower case: race car\n"
     ]
    }
   ],
   "source": [
    "# Step 2: Convert input to lower case\n",
    "phrase = phrase.lower().strip()\n",
    "\n",
    "print(\"Converted to lower case: \" + phrase)"
   ]
  },
  {
   "cell_type": "code",
   "execution_count": 9,
   "metadata": {},
   "outputs": [
    {
     "name": "stdout",
     "output_type": "stream",
     "text": [
      "Removed spaces: racecar\n"
     ]
    }
   ],
   "source": [
    "# Step 3: Remove spaces\n",
    "phrase = phrase.replace(' ', '')\n",
    "print(\"Removed spaces: \" + phrase)"
   ]
  },
  {
   "cell_type": "code",
   "execution_count": 33,
   "metadata": {},
   "outputs": [],
   "source": [
    "temp = \"Mr. Owl ate my metal worm\""
   ]
  },
  {
   "cell_type": "code",
   "execution_count": 37,
   "metadata": {},
   "outputs": [
    {
     "name": "stdout",
     "output_type": "stream",
     "text": [
      "M\n",
      "r\n",
      ".\n",
      " \n",
      "O\n",
      "w\n",
      "l\n",
      " \n",
      "a\n",
      "t\n",
      "e\n",
      " \n",
      "m\n",
      "y\n",
      " \n",
      "m\n",
      "e\n",
      "t\n",
      "a\n",
      "l\n",
      " \n",
      "w\n",
      "o\n",
      "r\n",
      "m\n"
     ]
    }
   ],
   "source": [
    "# Iterate through a string and check characters one-by-one\n",
    "illegal_chars = ['!','.', ' ', '@', '#', '$', '^', '&', '*', '(', ')',',',':',';','?']\n",
    "for i in range(0, 25):\n",
    "    #print(i)\n",
    "    print(temp[i])\n"
   ]
  },
  {
   "cell_type": "code",
   "execution_count": null,
   "metadata": {},
   "outputs": [],
   "source": [
    "# Iterate through a string and remove all characters that are non-letters"
   ]
  },
  {
   "cell_type": "code",
   "execution_count": null,
   "metadata": {},
   "outputs": [],
   "source": []
  },
  {
   "cell_type": "code",
   "execution_count": null,
   "metadata": {},
   "outputs": [],
   "source": []
  },
  {
   "cell_type": "code",
   "execution_count": null,
   "metadata": {},
   "outputs": [],
   "source": []
  },
  {
   "cell_type": "code",
   "execution_count": null,
   "metadata": {},
   "outputs": [],
   "source": []
  }
 ],
 "metadata": {
  "kernelspec": {
   "display_name": "Python 3",
   "language": "python",
   "name": "python3"
  },
  "language_info": {
   "codemirror_mode": {
    "name": "ipython",
    "version": 3
   },
   "file_extension": ".py",
   "mimetype": "text/x-python",
   "name": "python",
   "nbconvert_exporter": "python",
   "pygments_lexer": "ipython3",
   "version": "3.7.4"
  }
 },
 "nbformat": 4,
 "nbformat_minor": 2
}
