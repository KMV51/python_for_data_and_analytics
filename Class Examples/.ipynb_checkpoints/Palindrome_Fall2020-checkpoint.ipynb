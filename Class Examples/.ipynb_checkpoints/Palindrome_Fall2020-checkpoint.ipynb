{
 "cells": [
  {
   "cell_type": "markdown",
   "metadata": {},
   "source": [
    "## Palindrome Example\n",
    "\n",
    "* Bob = boB\n",
    "* race car. = .rac ecar\n",
    "\n",
    "### Algorithm\n",
    "\n",
    "1. Get user input\n",
    "2. Convert everything to lower case\n",
    "3. Remove all non-alpha (non-letter) characters\n",
    "4. Reverse original string\n",
    "5. Compare original and reversed strings"
   ]
  },
  {
   "cell_type": "code",
   "execution_count": 32,
   "metadata": {},
   "outputs": [
    {
     "name": "stdout",
     "output_type": "stream",
     "text": [
      "Please enter a word or a phrase:\n",
      "Race car!\n"
     ]
    }
   ],
   "source": [
    "# Step 1: Get user input\n",
    "user_input = input(\"Please enter a word or a phrase:\\n\")\n"
   ]
  },
  {
   "cell_type": "code",
   "execution_count": 33,
   "metadata": {},
   "outputs": [],
   "source": [
    "def remove_non_letters(text):\n",
    "    text = text.lower()\n",
    "    temp = ''\n",
    "    for i in range(0, len(text)):\n",
    "        # print(\"Original character: \" + text[i])\n",
    "        # print(\"Ascii code: \" + str(ord(text[i])))\n",
    "        # print(str(i) + \": \" + text[i])\n",
    "        # print(ord(text[i]))\n",
    "        ascii_val = ord(text[i])\n",
    "        if ascii_val >= 97 and ascii_val <= 122:\n",
    "            # print(\"Met the criteria of 'lower case letter'\")\n",
    "            # print(text[i])\n",
    "            temp = temp + text[i]\n",
    "            # print(\"Current value of cleaned string: \" + temp)\n",
    "            # print(\"______________________\")\n",
    "    return temp"
   ]
  },
  {
   "cell_type": "code",
   "execution_count": 34,
   "metadata": {},
   "outputs": [
    {
     "name": "stdout",
     "output_type": "stream",
     "text": [
      "racecar\n"
     ]
    }
   ],
   "source": [
    "# Step 2: Convert everything to lower case\n",
    "\n",
    "# Step 3: Remove all non-alpha (non-letter) characters\n",
    "# http://www.asciitable.com/\n",
    "\n",
    "cleaned_user_input = remove_non_letters(cleaned_user_input)\n",
    "\n",
    "        \n",
    "print(cleaned_user_input)\n",
    "    "
   ]
  },
  {
   "cell_type": "code",
   "execution_count": 35,
   "metadata": {},
   "outputs": [
    {
     "name": "stdout",
     "output_type": "stream",
     "text": [
      "racecar\n"
     ]
    }
   ],
   "source": [
    "# Step 4: Reverse original string\n",
    "rev_input = cleaned_user_input[::-1]\n",
    "print(rev_input)"
   ]
  },
  {
   "cell_type": "code",
   "execution_count": 36,
   "metadata": {
    "scrolled": true
   },
   "outputs": [
    {
     "name": "stdout",
     "output_type": "stream",
     "text": [
      "'Race car!' is a palindrome!\n"
     ]
    }
   ],
   "source": [
    "# Step 5: Compare original and reversed\n",
    "if cleaned_user_input == rev_input:\n",
    "    print(\"'\" + user_input + \"' is a palindrome!\")\n",
    "else: \n",
    "    print(\"'\" + user_input + \"' is NOT a palindrome!\")"
   ]
  },
  {
   "cell_type": "code",
   "execution_count": 37,
   "metadata": {},
   "outputs": [],
   "source": [
    "def is_palindome(text):\n",
    "    clean_input = remove_non_letters(text)\n",
    "    rev_input = clean_input[::-1]\n",
    "    if clean_input == rev_input:\n",
    "        return True\n",
    "    else:\n",
    "        return False"
   ]
  },
  {
   "cell_type": "code",
   "execution_count": 38,
   "metadata": {},
   "outputs": [
    {
     "name": "stdout",
     "output_type": "stream",
     "text": [
      "True\n"
     ]
    }
   ],
   "source": [
    "print(is_palindome('race car!'))"
   ]
  },
  {
   "cell_type": "code",
   "execution_count": 39,
   "metadata": {},
   "outputs": [
    {
     "name": "stdout",
     "output_type": "stream",
     "text": [
      "True\n"
     ]
    }
   ],
   "source": [
    "print(is_palindome('Red rum, sir, is murder'))"
   ]
  },
  {
   "cell_type": "code",
   "execution_count": 41,
   "metadata": {},
   "outputs": [
    {
     "name": "stdout",
     "output_type": "stream",
     "text": [
      "['Red rum', ' sir', ' is murder']\n"
     ]
    }
   ],
   "source": [
    "# Split example\n",
    "s = 'Red rum, sir, is murder'\n",
    "l = s.split(',')\n",
    "print(l)"
   ]
  },
  {
   "cell_type": "code",
   "execution_count": null,
   "metadata": {},
   "outputs": [],
   "source": []
  }
 ],
 "metadata": {
  "kernelspec": {
   "display_name": "Python 3",
   "language": "python",
   "name": "python3"
  },
  "language_info": {
   "codemirror_mode": {
    "name": "ipython",
    "version": 3
   },
   "file_extension": ".py",
   "mimetype": "text/x-python",
   "name": "python",
   "nbconvert_exporter": "python",
   "pygments_lexer": "ipython3",
   "version": "3.7.4"
  }
 },
 "nbformat": 4,
 "nbformat_minor": 4
}
