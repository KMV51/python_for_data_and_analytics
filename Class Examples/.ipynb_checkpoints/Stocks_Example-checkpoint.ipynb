{
 "cells": [
  {
   "cell_type": "markdown",
   "metadata": {},
   "source": [
    "1. Reading text files\n",
    "2. Reading CSV files\n",
    "3. Creating data matrix\n",
    "4. Creating lists of dictionaries\n",
    "5. Creating dictionaries of lists\n",
    "6. Error Handling"
   ]
  },
  {
   "cell_type": "code",
   "execution_count": 31,
   "metadata": {},
   "outputs": [],
   "source": [
    "def is_float(val):\n",
    "    try:\n",
    "        y = float(val)\n",
    "        return True\n",
    "    except:\n",
    "        return False\n",
    "\n",
    "    "
   ]
  },
  {
   "cell_type": "code",
   "execution_count": 41,
   "metadata": {},
   "outputs": [
    {
     "name": "stdout",
     "output_type": "stream",
     "text": [
      "2018/03/16\n",
      "28.41\n",
      "125084.0\n",
      "28.35\n",
      "28.57\n",
      "28.21\n"
     ]
    }
   ],
   "source": [
    "# Example of iterating through a list by index\n",
    "some_list = ['2018/03/16', 28.41, 125084.0, 28.35, 28.57, 28.21]\n",
    "#print(len(some_list))\n",
    "\n",
    "for i in range(len(some_list)):\n",
    "    print(some_list[i])\n",
    "    "
   ]
  },
  {
   "cell_type": "code",
   "execution_count": 34,
   "metadata": {},
   "outputs": [],
   "source": [
    "def convert_row_to_float(row):\n",
    "    for i in range(len(row)):\n",
    "        if is_float(row[i]):\n",
    "            row[i] = float(row[i])\n",
    "    return row"
   ]
  },
  {
   "cell_type": "code",
   "execution_count": 35,
   "metadata": {},
   "outputs": [],
   "source": [
    "f = open('stocks.csv') # Open file\n",
    "rows = f.readlines() # Reading individual lines of text\n",
    "# print(lines)\n",
    "\n",
    "matrix = [] # Global variable\n",
    "\n",
    "# Note that I'm starting with item in position of 1 instead of 0\n",
    "# This will remove the first row of data (headers)\n",
    "for row in rows[1:]:\n",
    "    row = row.replace('\\n', '') # Remove new line character\n",
    "    row = row.replace('\"', '') # Remove \"\"\n",
    "    if row != '':\n",
    "        row = row.split(',')\n",
    "        row = convert_row_to_float(row)\n",
    "            \n",
    "        matrix.append(row)\n",
    "        #print(row)"
   ]
  },
  {
   "cell_type": "code",
   "execution_count": 36,
   "metadata": {},
   "outputs": [
    {
     "name": "stdout",
     "output_type": "stream",
     "text": [
      "['2018/03/16', 28.41, 125084.0, 28.35, 28.57, 28.21]\n"
     ]
    }
   ],
   "source": [
    "print(matrix[0])"
   ]
  },
  {
   "cell_type": "code",
   "execution_count": null,
   "metadata": {},
   "outputs": [],
   "source": []
  },
  {
   "cell_type": "markdown",
   "metadata": {},
   "source": [
    "### Reading CSV files"
   ]
  },
  {
   "cell_type": "code",
   "execution_count": 42,
   "metadata": {},
   "outputs": [],
   "source": [
    "import csv"
   ]
  },
  {
   "cell_type": "code",
   "execution_count": 59,
   "metadata": {},
   "outputs": [
    {
     "name": "stdout",
     "output_type": "stream",
     "text": [
      "[{'date': '2018/03/16', 'close': 28.41, 'volume': 125084.0, 'open': 28.35, 'high': 28.57, 'low': 28.21}, {'date': '2018/03/15', 'close': 28.29, 'volume': 237656.0, 'open': 28.3, 'high': 28.54, 'low': 28.08}, {'date': '2018/03/14', 'close': 28.33, 'volume': 108618.0, 'open': 28.08, 'high': 28.46, 'low': 28.01}, {'date': '2018/03/13', 'close': 28.01, 'volume': 108562.0, 'open': 28.34, 'high': 28.49, 'low': 27.94}, {'date': '2018/03/12', 'close': 28.29, 'volume': 99621.0, 'open': 28.29, 'high': 28.42, 'low': 28.12}, {'date': '2018/03/09', 'close': 28.1, 'volume': 149735.0, 'open': 28.12, 'high': 28.265, 'low': 28.01}, {'date': '2018/03/08', 'close': 28.0, 'volume': 62476.0, 'open': 28.02, 'high': 28.16, 'low': 27.87}, {'date': '2018/03/07', 'close': 27.97, 'volume': 57255.0, 'open': 27.92, 'high': 28.05, 'low': 27.7973}, {'date': '2018/03/06', 'close': 28.05, 'volume': 88951.0, 'open': 27.67, 'high': 28.13, 'low': 27.45}, {'date': '2018/03/05', 'close': 27.69, 'volume': 90590.0, 'open': 27.85, 'high': 28.04, 'low': 27.51}, {'date': '2018/03/02', 'close': 27.85, 'volume': 149200.0, 'open': 27.41, 'high': 28.15, 'low': 27.41}, {'date': '2018/03/01', 'close': 27.56, 'volume': 184401.0, 'open': 27.15, 'high': 27.64, 'low': 27.14}, {'date': '2018/02/28', 'close': 27.22, 'volume': 61670.0, 'open': 27.65, 'high': 27.72, 'low': 27.21}, {'date': '2018/02/27', 'close': 27.57, 'volume': 70269.0, 'open': 27.92, 'high': 28.03, 'low': 27.51}, {'date': '2018/02/26', 'close': 27.81, 'volume': 96557.0, 'open': 27.8, 'high': 27.87, 'low': 27.55}, {'date': '2018/02/23', 'close': 27.51, 'volume': 47316.0, 'open': 27.37, 'high': 27.62, 'low': 27.26}, {'date': '2018/02/22', 'close': 27.32, 'volume': 69326.0, 'open': 27.39, 'high': 27.56, 'low': 27.08}, {'date': '2018/02/21', 'close': 27.35, 'volume': 51357.0, 'open': 27.57, 'high': 27.825, 'low': 27.32}, {'date': '2018/02/20', 'close': 27.59, 'volume': 113583.0, 'open': 27.49, 'high': 27.76, 'low': 27.31}, {'date': '2018/02/16', 'close': 27.64, 'volume': 211522.0, 'open': 26.49, 'high': 27.9, 'low': 26.48}, {'date': '2018/02/15', 'close': 26.25, 'volume': 144455.0, 'open': 25.62, 'high': 26.5, 'low': 25.62}, {'date': '2018/02/14', 'close': 25.43, 'volume': 81419.0, 'open': 25.31, 'high': 25.68, 'low': 25.3}, {'date': '2018/02/13', 'close': 25.52, 'volume': 71128.0, 'open': 25.46, 'high': 25.8, 'low': 25.26}, {'date': '2018/02/12', 'close': 25.55, 'volume': 75770.0, 'open': 25.69, 'high': 25.77, 'low': 25.33}, {'date': '2018/02/09', 'close': 25.77, 'volume': 107429.0, 'open': 25.96, 'high': 25.96, 'low': 25.3}, {'date': '2018/02/08', 'close': 25.84, 'volume': 84742.0, 'open': 26.32, 'high': 26.32, 'low': 25.8}, {'date': '2018/02/07', 'close': 26.25, 'volume': 125635.0, 'open': 25.76, 'high': 26.35, 'low': 25.55}, {'date': '2018/02/06', 'close': 25.86, 'volume': 169028.0, 'open': 25.27, 'high': 26.055, 'low': 25.15}, {'date': '2018/02/05', 'close': 25.6, 'volume': 207844.0, 'open': 26.23, 'high': 26.58, 'low': 25.48}, {'date': '2018/02/02', 'close': 26.29, 'volume': 81654.0, 'open': 26.45, 'high': 26.6, 'low': 26.19}, {'date': '2018/02/01', 'close': 26.47, 'volume': 113076.0, 'open': 26.51, 'high': 26.7, 'low': 26.08}, {'date': '2018/01/31', 'close': 26.63, 'volume': 316582.0, 'open': 26.89, 'high': 27.0, 'low': 26.24}, {'date': '2018/01/30', 'close': 26.83, 'volume': 125732.0, 'open': 26.69, 'high': 26.91, 'low': 26.66}, {'date': '2018/01/29', 'close': 26.76, 'volume': 435514.0, 'open': 27.0, 'high': 27.01, 'low': 26.76}, {'date': '2018/01/26', 'close': 26.99, 'volume': 73622.0, 'open': 27.1, 'high': 27.67, 'low': 26.615}, {'date': '2018/01/25', 'close': 26.98, 'volume': 191058.0, 'open': 27.16, 'high': 27.25, 'low': 26.73}, {'date': '2018/01/24', 'close': 27.11, 'volume': 167889.0, 'open': 26.77, 'high': 27.23, 'low': 26.56}, {'date': '2018/01/23', 'close': 26.61, 'volume': 53793.0, 'open': 26.37, 'high': 26.65, 'low': 25.95}, {'date': '2018/01/22', 'close': 26.35, 'volume': 87045.0, 'open': 26.08, 'high': 26.39, 'low': 25.785}, {'date': '2018/01/19', 'close': 26.11, 'volume': 175857.0, 'open': 26.08, 'high': 26.48, 'low': 25.71}, {'date': '2018/01/18', 'close': 26.11, 'volume': 159672.0, 'open': 26.45, 'high': 26.5, 'low': 25.97}, {'date': '2018/01/17', 'close': 26.44, 'volume': 162984.0, 'open': 26.86, 'high': 26.86, 'low': 26.14}, {'date': '2018/01/16', 'close': 26.73, 'volume': 88923.0, 'open': 26.66, 'high': 27.14, 'low': 26.65}, {'date': '2018/01/12', 'close': 26.6, 'volume': 135009.0, 'open': 26.41, 'high': 26.6, 'low': 26.34}, {'date': '2018/01/11', 'close': 26.41, 'volume': 83223.0, 'open': 26.22, 'high': 26.56, 'low': 26.22}, {'date': '2018/01/10', 'close': 26.22, 'volume': 98082.0, 'open': 26.05, 'high': 26.32, 'low': 26.0139}, {'date': '2018/01/09', 'close': 26.15, 'volume': 76438.0, 'open': 26.8, 'high': 26.8, 'low': 26.11}, {'date': '2018/01/08', 'close': 26.71, 'volume': 110632.0, 'open': 26.42, 'high': 26.81, 'low': 26.28}, {'date': '2018/01/05', 'close': 26.42, 'volume': 70084.0, 'open': 26.52, 'high': 26.67, 'low': 26.27}, {'date': '2018/01/04', 'close': 26.46, 'volume': 130796.0, 'open': 26.4, 'high': 26.71, 'low': 26.2697}, {'date': '2018/01/03', 'close': 26.21, 'volume': 119481.0, 'open': 25.96, 'high': 26.31, 'low': 25.64}, {'date': '2018/01/02', 'close': 25.96, 'volume': 105348.0, 'open': 25.72, 'high': 25.98, 'low': 25.565}, {'date': '2017/12/29', 'close': 25.71, 'volume': 57700.0, 'open': 26.13, 'high': 26.13, 'low': 25.69}, {'date': '2017/12/28', 'close': 26.08, 'volume': 61484.0, 'open': 25.69, 'high': 26.17, 'low': 25.69}, {'date': '2017/12/27', 'close': 25.68, 'volume': 45098.0, 'open': 25.59, 'high': 25.8, 'low': 25.59}, {'date': '2017/12/26', 'close': 25.65, 'volume': 39907.0, 'open': 25.77, 'high': 25.84, 'low': 25.6}, {'date': '2017/12/22', 'close': 25.75, 'volume': 81357.0, 'open': 26.07, 'high': 26.12, 'low': 25.53}, {'date': '2017/12/21', 'close': 25.9, 'volume': 91325.0, 'open': 26.12, 'high': 26.12, 'low': 25.88}, {'date': '2017/12/20', 'close': 26.01, 'volume': 75250.0, 'open': 26.35, 'high': 26.35, 'low': 25.9}, {'date': '2017/12/19', 'close': 26.27, 'volume': 125861.0, 'open': 26.32, 'high': 26.5, 'low': 26.18}, {'date': '2017/12/18', 'close': 26.23, 'volume': 107452.0, 'open': 26.38, 'high': 26.47, 'low': 26.14}]\n"
     ]
    }
   ],
   "source": [
    "f = open('stocks.csv') # Open the text file\n",
    "f.seek(0) # Go to the beginning of the file\n",
    "csv_reader = csv.reader(f, delimiter=',')\n",
    "next(csv_reader) # Skip header row\n",
    "matrix = []\n",
    "for row in csv_reader: \n",
    "    if len(row) > 0:\n",
    "        # Create dictionary\n",
    "        d = {}\n",
    "        d['date'] = row[0]\n",
    "        d['close'] = float(row[1])\n",
    "        d['volume'] = float(row[2])\n",
    "        d['open'] = float(row[3])\n",
    "        d['high'] = float(row[4])\n",
    "        d['low'] = float(row[5])\n",
    "\n",
    "        matrix.append(d)\n",
    "\n",
    "print(matrix)"
   ]
  },
  {
   "cell_type": "code",
   "execution_count": 45,
   "metadata": {},
   "outputs": [],
   "source": []
  },
  {
   "cell_type": "code",
   "execution_count": null,
   "metadata": {},
   "outputs": [],
   "source": []
  }
 ],
 "metadata": {
  "kernelspec": {
   "display_name": "Python 3",
   "language": "python",
   "name": "python3"
  },
  "language_info": {
   "codemirror_mode": {
    "name": "ipython",
    "version": 3
   },
   "file_extension": ".py",
   "mimetype": "text/x-python",
   "name": "python",
   "nbconvert_exporter": "python",
   "pygments_lexer": "ipython3",
   "version": "3.7.4"
  }
 },
 "nbformat": 4,
 "nbformat_minor": 4
}
