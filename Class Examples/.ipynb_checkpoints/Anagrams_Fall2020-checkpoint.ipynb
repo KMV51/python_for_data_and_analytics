{
 "cells": [
  {
   "cell_type": "markdown",
   "metadata": {},
   "source": [
    "## Anagrams Example\n",
    "\n",
    "A word, phrase, or sentence formed from another by rearranging its letters: “Angel” is an anagram of “glean.”\n",
    "\n",
    "### Algorithm\n",
    "1. Getting user input\n",
    "2. Read words from a text file\n",
    "3. Iterate through a list of words. For each word in a list, compare the word's signature to the input word"
   ]
  },
  {
   "cell_type": "code",
   "execution_count": 38,
   "metadata": {},
   "outputs": [
    {
     "name": "stdout",
     "output_type": "stream",
     "text": [
      "Please enter a word or a phrase: \n",
      "Tar\n"
     ]
    }
   ],
   "source": [
    "user_input = input(\"Please enter a word or a phrase: \\n\")"
   ]
  },
  {
   "cell_type": "code",
   "execution_count": 39,
   "metadata": {},
   "outputs": [],
   "source": [
    "def get_word_signature(word):\n",
    "    word = word.lower()\n",
    "    word = word.replace('\\n', '')\n",
    "    return sorted(word)"
   ]
  },
  {
   "cell_type": "code",
   "execution_count": 40,
   "metadata": {},
   "outputs": [],
   "source": [
    "# Read data from text file\n",
    "f = open('words.txt')\n",
    "\n",
    "# Read lines of a text file into a list\n",
    "words = f.readlines()\n",
    "#print(words[:100])"
   ]
  },
  {
   "cell_type": "code",
   "execution_count": 41,
   "metadata": {},
   "outputs": [],
   "source": [
    "# read all text into a single variable\n",
    "#text = f.read()\n",
    "#print(text[:1000])"
   ]
  },
  {
   "cell_type": "code",
   "execution_count": 42,
   "metadata": {},
   "outputs": [],
   "source": [
    "# Iterate through the list of words and compare each word to user input"
   ]
  },
  {
   "cell_type": "code",
   "execution_count": 46,
   "metadata": {},
   "outputs": [
    {
     "name": "stdout",
     "output_type": "stream",
     "text": [
      "[0, 1, 2, 3, 4]\n"
     ]
    }
   ],
   "source": [
    "s = 'hello'\n",
    "l = ['h','e','l','l','o']\n",
    "idx = list(range(0, len(s)))\n",
    "print(idx)"
   ]
  },
  {
   "cell_type": "markdown",
   "metadata": {},
   "source": [
    "1. iterate (loop) through list [0, 1, 2, 3, 4]\n",
    "2. for each element in list [0, 1, 2, 3, 4]:\n",
    "3. store each element's value in variable 'i'\n",
    "    "
   ]
  },
  {
   "cell_type": "code",
   "execution_count": 48,
   "metadata": {},
   "outputs": [
    {
     "name": "stdout",
     "output_type": "stream",
     "text": [
      "0\n",
      "a\n",
      "\n",
      "1\n",
      "aa\n",
      "\n",
      "2\n",
      "aaa\n",
      "\n",
      "3\n",
      "aah\n",
      "\n",
      "4\n",
      "aahed\n",
      "\n",
      "5\n",
      "aahing\n",
      "\n",
      "6\n",
      "aahs\n",
      "\n",
      "7\n",
      "aal\n",
      "\n",
      "8\n",
      "aalii\n",
      "\n",
      "9\n",
      "aaliis\n",
      "\n"
     ]
    }
   ],
   "source": [
    "for i in range(0, len(words[:10])):\n",
    "    print(i)\n",
    "    print(words[i])\n"
   ]
  },
  {
   "cell_type": "markdown",
   "metadata": {},
   "source": [
    "1. Iterate through the list 'words'\n",
    "2. For each element in the list 'words':\n",
    "3. Store the value of that element in 'w'"
   ]
  },
  {
   "cell_type": "code",
   "execution_count": 45,
   "metadata": {},
   "outputs": [
    {
     "name": "stdout",
     "output_type": "stream",
     "text": [
      "art\n",
      "\n",
      "rat\n",
      "\n",
      "tar\n",
      "\n",
      "tra\n",
      "\n"
     ]
    }
   ],
   "source": [
    "for w in words:\n",
    "    #print(get_word_signature(w))\n",
    "    if get_word_signature(w) == get_word_signature(user_input):\n",
    "        print(w)"
   ]
  },
  {
   "cell_type": "code",
   "execution_count": null,
   "metadata": {},
   "outputs": [],
   "source": []
  }
 ],
 "metadata": {
  "kernelspec": {
   "display_name": "Python 3",
   "language": "python",
   "name": "python3"
  },
  "language_info": {
   "codemirror_mode": {
    "name": "ipython",
    "version": 3
   },
   "file_extension": ".py",
   "mimetype": "text/x-python",
   "name": "python",
   "nbconvert_exporter": "python",
   "pygments_lexer": "ipython3",
   "version": "3.7.4"
  }
 },
 "nbformat": 4,
 "nbformat_minor": 4
}
