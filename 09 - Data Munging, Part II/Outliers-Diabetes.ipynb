{
 "cells": [
  {
   "cell_type": "markdown",
   "metadata": {},
   "source": [
    "This tutorial is based on **Python for Data Analysis Part 16: Preparing Numeric Data**:\n",
    "http://hamelg.blogspot.com/2015/11/python-for-data-analysis-part-16.html"
   ]
  },
  {
   "cell_type": "code",
   "execution_count": 1,
   "metadata": {},
   "outputs": [],
   "source": [
    "%matplotlib inline\n",
    "import numpy as np              \n",
    "import pandas as pd\n"
   ]
  },
  {
   "cell_type": "markdown",
   "metadata": {},
   "source": [
    "**Centering and Scaling**\n",
    "\n",
    "Numeric variables are often on different scales and cover different ranges, so they can't be easily compared. What's more, variables with large values can dominate those with smaller values when using certain modeling techniques. Centering and scaling is a common preprocessing task that puts numeric variables on a common scale so no single variable will dominate the others.\n",
    "The simplest way to center data is to subtract the mean value from each data point. Subtracting the mean centers the data around zero and sets the new mean to zero. "
   ]
  },
  {
   "cell_type": "code",
   "execution_count": 2,
   "metadata": {},
   "outputs": [
    {
     "data": {
      "text/html": [
       "<div>\n",
       "<style scoped>\n",
       "    .dataframe tbody tr th:only-of-type {\n",
       "        vertical-align: middle;\n",
       "    }\n",
       "\n",
       "    .dataframe tbody tr th {\n",
       "        vertical-align: top;\n",
       "    }\n",
       "\n",
       "    .dataframe thead th {\n",
       "        text-align: right;\n",
       "    }\n",
       "</style>\n",
       "<table border=\"1\" class=\"dataframe\">\n",
       "  <thead>\n",
       "    <tr style=\"text-align: right;\">\n",
       "      <th></th>\n",
       "      <th>id</th>\n",
       "      <th>chol</th>\n",
       "      <th>stab.glu</th>\n",
       "      <th>hdl</th>\n",
       "      <th>ratio</th>\n",
       "      <th>glyhb</th>\n",
       "      <th>location</th>\n",
       "      <th>age</th>\n",
       "      <th>gender</th>\n",
       "      <th>height</th>\n",
       "      <th>weight</th>\n",
       "      <th>frame</th>\n",
       "      <th>bp.1s</th>\n",
       "      <th>bp.1d</th>\n",
       "      <th>waist</th>\n",
       "      <th>hip</th>\n",
       "    </tr>\n",
       "  </thead>\n",
       "  <tbody>\n",
       "    <tr>\n",
       "      <th>0</th>\n",
       "      <td>1000</td>\n",
       "      <td>203.0</td>\n",
       "      <td>82</td>\n",
       "      <td>56.0</td>\n",
       "      <td>3.6</td>\n",
       "      <td>4.31</td>\n",
       "      <td>Buckingham</td>\n",
       "      <td>46</td>\n",
       "      <td>female</td>\n",
       "      <td>62.0</td>\n",
       "      <td>121.0</td>\n",
       "      <td>medium</td>\n",
       "      <td>118.0</td>\n",
       "      <td>59.0</td>\n",
       "      <td>29.0</td>\n",
       "      <td>38.0</td>\n",
       "    </tr>\n",
       "    <tr>\n",
       "      <th>1</th>\n",
       "      <td>1001</td>\n",
       "      <td>165.0</td>\n",
       "      <td>97</td>\n",
       "      <td>24.0</td>\n",
       "      <td>6.9</td>\n",
       "      <td>4.44</td>\n",
       "      <td>Buckingham</td>\n",
       "      <td>29</td>\n",
       "      <td>female</td>\n",
       "      <td>64.0</td>\n",
       "      <td>218.0</td>\n",
       "      <td>large</td>\n",
       "      <td>112.0</td>\n",
       "      <td>68.0</td>\n",
       "      <td>46.0</td>\n",
       "      <td>48.0</td>\n",
       "    </tr>\n",
       "    <tr>\n",
       "      <th>2</th>\n",
       "      <td>1002</td>\n",
       "      <td>228.0</td>\n",
       "      <td>92</td>\n",
       "      <td>37.0</td>\n",
       "      <td>6.2</td>\n",
       "      <td>4.64</td>\n",
       "      <td>Buckingham</td>\n",
       "      <td>58</td>\n",
       "      <td>female</td>\n",
       "      <td>61.0</td>\n",
       "      <td>256.0</td>\n",
       "      <td>large</td>\n",
       "      <td>190.0</td>\n",
       "      <td>92.0</td>\n",
       "      <td>49.0</td>\n",
       "      <td>57.0</td>\n",
       "    </tr>\n",
       "    <tr>\n",
       "      <th>3</th>\n",
       "      <td>1003</td>\n",
       "      <td>78.0</td>\n",
       "      <td>93</td>\n",
       "      <td>12.0</td>\n",
       "      <td>6.5</td>\n",
       "      <td>4.63</td>\n",
       "      <td>Buckingham</td>\n",
       "      <td>67</td>\n",
       "      <td>male</td>\n",
       "      <td>67.0</td>\n",
       "      <td>119.0</td>\n",
       "      <td>large</td>\n",
       "      <td>110.0</td>\n",
       "      <td>50.0</td>\n",
       "      <td>33.0</td>\n",
       "      <td>38.0</td>\n",
       "    </tr>\n",
       "    <tr>\n",
       "      <th>4</th>\n",
       "      <td>1005</td>\n",
       "      <td>249.0</td>\n",
       "      <td>90</td>\n",
       "      <td>28.0</td>\n",
       "      <td>8.9</td>\n",
       "      <td>7.72</td>\n",
       "      <td>Buckingham</td>\n",
       "      <td>64</td>\n",
       "      <td>male</td>\n",
       "      <td>68.0</td>\n",
       "      <td>183.0</td>\n",
       "      <td>medium</td>\n",
       "      <td>138.0</td>\n",
       "      <td>80.0</td>\n",
       "      <td>44.0</td>\n",
       "      <td>41.0</td>\n",
       "    </tr>\n",
       "  </tbody>\n",
       "</table>\n",
       "</div>"
      ],
      "text/plain": [
       "     id   chol  stab.glu   hdl  ratio  glyhb    location  age  gender  height  \\\n",
       "0  1000  203.0        82  56.0    3.6   4.31  Buckingham   46  female    62.0   \n",
       "1  1001  165.0        97  24.0    6.9   4.44  Buckingham   29  female    64.0   \n",
       "2  1002  228.0        92  37.0    6.2   4.64  Buckingham   58  female    61.0   \n",
       "3  1003   78.0        93  12.0    6.5   4.63  Buckingham   67    male    67.0   \n",
       "4  1005  249.0        90  28.0    8.9   7.72  Buckingham   64    male    68.0   \n",
       "\n",
       "   weight   frame  bp.1s  bp.1d  waist   hip  \n",
       "0   121.0  medium  118.0   59.0   29.0  38.0  \n",
       "1   218.0   large  112.0   68.0   46.0  48.0  \n",
       "2   256.0   large  190.0   92.0   49.0  57.0  \n",
       "3   119.0   large  110.0   50.0   33.0  38.0  \n",
       "4   183.0  medium  138.0   80.0   44.0  41.0  "
      ]
     },
     "execution_count": 2,
     "metadata": {},
     "output_type": "execute_result"
    }
   ],
   "source": [
    "df = pd.read_csv(\"diabetes.csv\")\n",
    "df.head()"
   ]
  },
  {
   "cell_type": "code",
   "execution_count": 3,
   "metadata": {},
   "outputs": [
    {
     "data": {
      "text/html": [
       "<div>\n",
       "<style scoped>\n",
       "    .dataframe tbody tr th:only-of-type {\n",
       "        vertical-align: middle;\n",
       "    }\n",
       "\n",
       "    .dataframe tbody tr th {\n",
       "        vertical-align: top;\n",
       "    }\n",
       "\n",
       "    .dataframe thead th {\n",
       "        text-align: right;\n",
       "    }\n",
       "</style>\n",
       "<table border=\"1\" class=\"dataframe\">\n",
       "  <thead>\n",
       "    <tr style=\"text-align: right;\">\n",
       "      <th></th>\n",
       "      <th>id</th>\n",
       "      <th>chol</th>\n",
       "      <th>stab.glu</th>\n",
       "      <th>hdl</th>\n",
       "      <th>ratio</th>\n",
       "      <th>glyhb</th>\n",
       "      <th>location</th>\n",
       "      <th>age</th>\n",
       "      <th>gender</th>\n",
       "      <th>height</th>\n",
       "      <th>weight</th>\n",
       "      <th>frame</th>\n",
       "      <th>bp.1s</th>\n",
       "      <th>bp.1d</th>\n",
       "      <th>waist</th>\n",
       "      <th>hip</th>\n",
       "    </tr>\n",
       "    <tr>\n",
       "      <th>id</th>\n",
       "      <th></th>\n",
       "      <th></th>\n",
       "      <th></th>\n",
       "      <th></th>\n",
       "      <th></th>\n",
       "      <th></th>\n",
       "      <th></th>\n",
       "      <th></th>\n",
       "      <th></th>\n",
       "      <th></th>\n",
       "      <th></th>\n",
       "      <th></th>\n",
       "      <th></th>\n",
       "      <th></th>\n",
       "      <th></th>\n",
       "      <th></th>\n",
       "    </tr>\n",
       "  </thead>\n",
       "  <tbody>\n",
       "    <tr>\n",
       "      <th>1000</th>\n",
       "      <td>1000</td>\n",
       "      <td>203.0</td>\n",
       "      <td>82</td>\n",
       "      <td>56.0</td>\n",
       "      <td>3.6</td>\n",
       "      <td>4.31</td>\n",
       "      <td>Buckingham</td>\n",
       "      <td>46</td>\n",
       "      <td>female</td>\n",
       "      <td>62.0</td>\n",
       "      <td>121.0</td>\n",
       "      <td>medium</td>\n",
       "      <td>118.0</td>\n",
       "      <td>59.0</td>\n",
       "      <td>29.0</td>\n",
       "      <td>38.0</td>\n",
       "    </tr>\n",
       "    <tr>\n",
       "      <th>1001</th>\n",
       "      <td>1001</td>\n",
       "      <td>165.0</td>\n",
       "      <td>97</td>\n",
       "      <td>24.0</td>\n",
       "      <td>6.9</td>\n",
       "      <td>4.44</td>\n",
       "      <td>Buckingham</td>\n",
       "      <td>29</td>\n",
       "      <td>female</td>\n",
       "      <td>64.0</td>\n",
       "      <td>218.0</td>\n",
       "      <td>large</td>\n",
       "      <td>112.0</td>\n",
       "      <td>68.0</td>\n",
       "      <td>46.0</td>\n",
       "      <td>48.0</td>\n",
       "    </tr>\n",
       "    <tr>\n",
       "      <th>1002</th>\n",
       "      <td>1002</td>\n",
       "      <td>228.0</td>\n",
       "      <td>92</td>\n",
       "      <td>37.0</td>\n",
       "      <td>6.2</td>\n",
       "      <td>4.64</td>\n",
       "      <td>Buckingham</td>\n",
       "      <td>58</td>\n",
       "      <td>female</td>\n",
       "      <td>61.0</td>\n",
       "      <td>256.0</td>\n",
       "      <td>large</td>\n",
       "      <td>190.0</td>\n",
       "      <td>92.0</td>\n",
       "      <td>49.0</td>\n",
       "      <td>57.0</td>\n",
       "    </tr>\n",
       "    <tr>\n",
       "      <th>1003</th>\n",
       "      <td>1003</td>\n",
       "      <td>78.0</td>\n",
       "      <td>93</td>\n",
       "      <td>12.0</td>\n",
       "      <td>6.5</td>\n",
       "      <td>4.63</td>\n",
       "      <td>Buckingham</td>\n",
       "      <td>67</td>\n",
       "      <td>male</td>\n",
       "      <td>67.0</td>\n",
       "      <td>119.0</td>\n",
       "      <td>large</td>\n",
       "      <td>110.0</td>\n",
       "      <td>50.0</td>\n",
       "      <td>33.0</td>\n",
       "      <td>38.0</td>\n",
       "    </tr>\n",
       "    <tr>\n",
       "      <th>1005</th>\n",
       "      <td>1005</td>\n",
       "      <td>249.0</td>\n",
       "      <td>90</td>\n",
       "      <td>28.0</td>\n",
       "      <td>8.9</td>\n",
       "      <td>7.72</td>\n",
       "      <td>Buckingham</td>\n",
       "      <td>64</td>\n",
       "      <td>male</td>\n",
       "      <td>68.0</td>\n",
       "      <td>183.0</td>\n",
       "      <td>medium</td>\n",
       "      <td>138.0</td>\n",
       "      <td>80.0</td>\n",
       "      <td>44.0</td>\n",
       "      <td>41.0</td>\n",
       "    </tr>\n",
       "  </tbody>\n",
       "</table>\n",
       "</div>"
      ],
      "text/plain": [
       "        id   chol  stab.glu   hdl  ratio  glyhb    location  age  gender  \\\n",
       "id                                                                         \n",
       "1000  1000  203.0        82  56.0    3.6   4.31  Buckingham   46  female   \n",
       "1001  1001  165.0        97  24.0    6.9   4.44  Buckingham   29  female   \n",
       "1002  1002  228.0        92  37.0    6.2   4.64  Buckingham   58  female   \n",
       "1003  1003   78.0        93  12.0    6.5   4.63  Buckingham   67    male   \n",
       "1005  1005  249.0        90  28.0    8.9   7.72  Buckingham   64    male   \n",
       "\n",
       "      height  weight   frame  bp.1s  bp.1d  waist   hip  \n",
       "id                                                       \n",
       "1000    62.0   121.0  medium  118.0   59.0   29.0  38.0  \n",
       "1001    64.0   218.0   large  112.0   68.0   46.0  48.0  \n",
       "1002    61.0   256.0   large  190.0   92.0   49.0  57.0  \n",
       "1003    67.0   119.0   large  110.0   50.0   33.0  38.0  \n",
       "1005    68.0   183.0  medium  138.0   80.0   44.0  41.0  "
      ]
     },
     "execution_count": 3,
     "metadata": {},
     "output_type": "execute_result"
    }
   ],
   "source": [
    "df.index = df.id       # Set row index to patient ID name\n",
    "df.head()"
   ]
  },
  {
   "cell_type": "code",
   "execution_count": 4,
   "metadata": {},
   "outputs": [
    {
     "data": {
      "text/html": [
       "<div>\n",
       "<style scoped>\n",
       "    .dataframe tbody tr th:only-of-type {\n",
       "        vertical-align: middle;\n",
       "    }\n",
       "\n",
       "    .dataframe tbody tr th {\n",
       "        vertical-align: top;\n",
       "    }\n",
       "\n",
       "    .dataframe thead th {\n",
       "        text-align: right;\n",
       "    }\n",
       "</style>\n",
       "<table border=\"1\" class=\"dataframe\">\n",
       "  <thead>\n",
       "    <tr style=\"text-align: right;\">\n",
       "      <th></th>\n",
       "      <th>chol</th>\n",
       "      <th>stab.glu</th>\n",
       "      <th>hdl</th>\n",
       "      <th>ratio</th>\n",
       "      <th>glyhb</th>\n",
       "      <th>age</th>\n",
       "      <th>height</th>\n",
       "      <th>weight</th>\n",
       "      <th>bp.1s</th>\n",
       "      <th>bp.1d</th>\n",
       "      <th>waist</th>\n",
       "      <th>hip</th>\n",
       "    </tr>\n",
       "    <tr>\n",
       "      <th>id</th>\n",
       "      <th></th>\n",
       "      <th></th>\n",
       "      <th></th>\n",
       "      <th></th>\n",
       "      <th></th>\n",
       "      <th></th>\n",
       "      <th></th>\n",
       "      <th></th>\n",
       "      <th></th>\n",
       "      <th></th>\n",
       "      <th></th>\n",
       "      <th></th>\n",
       "    </tr>\n",
       "  </thead>\n",
       "  <tbody>\n",
       "    <tr>\n",
       "      <th>1000</th>\n",
       "      <td>203.0</td>\n",
       "      <td>82</td>\n",
       "      <td>56.0</td>\n",
       "      <td>3.6</td>\n",
       "      <td>4.31</td>\n",
       "      <td>46</td>\n",
       "      <td>62.0</td>\n",
       "      <td>121.0</td>\n",
       "      <td>118.0</td>\n",
       "      <td>59.0</td>\n",
       "      <td>29.0</td>\n",
       "      <td>38.0</td>\n",
       "    </tr>\n",
       "    <tr>\n",
       "      <th>1001</th>\n",
       "      <td>165.0</td>\n",
       "      <td>97</td>\n",
       "      <td>24.0</td>\n",
       "      <td>6.9</td>\n",
       "      <td>4.44</td>\n",
       "      <td>29</td>\n",
       "      <td>64.0</td>\n",
       "      <td>218.0</td>\n",
       "      <td>112.0</td>\n",
       "      <td>68.0</td>\n",
       "      <td>46.0</td>\n",
       "      <td>48.0</td>\n",
       "    </tr>\n",
       "    <tr>\n",
       "      <th>1002</th>\n",
       "      <td>228.0</td>\n",
       "      <td>92</td>\n",
       "      <td>37.0</td>\n",
       "      <td>6.2</td>\n",
       "      <td>4.64</td>\n",
       "      <td>58</td>\n",
       "      <td>61.0</td>\n",
       "      <td>256.0</td>\n",
       "      <td>190.0</td>\n",
       "      <td>92.0</td>\n",
       "      <td>49.0</td>\n",
       "      <td>57.0</td>\n",
       "    </tr>\n",
       "    <tr>\n",
       "      <th>1003</th>\n",
       "      <td>78.0</td>\n",
       "      <td>93</td>\n",
       "      <td>12.0</td>\n",
       "      <td>6.5</td>\n",
       "      <td>4.63</td>\n",
       "      <td>67</td>\n",
       "      <td>67.0</td>\n",
       "      <td>119.0</td>\n",
       "      <td>110.0</td>\n",
       "      <td>50.0</td>\n",
       "      <td>33.0</td>\n",
       "      <td>38.0</td>\n",
       "    </tr>\n",
       "    <tr>\n",
       "      <th>1005</th>\n",
       "      <td>249.0</td>\n",
       "      <td>90</td>\n",
       "      <td>28.0</td>\n",
       "      <td>8.9</td>\n",
       "      <td>7.72</td>\n",
       "      <td>64</td>\n",
       "      <td>68.0</td>\n",
       "      <td>183.0</td>\n",
       "      <td>138.0</td>\n",
       "      <td>80.0</td>\n",
       "      <td>44.0</td>\n",
       "      <td>41.0</td>\n",
       "    </tr>\n",
       "  </tbody>\n",
       "</table>\n",
       "</div>"
      ],
      "text/plain": [
       "       chol  stab.glu   hdl  ratio  glyhb  age  height  weight  bp.1s  bp.1d  \\\n",
       "id                                                                             \n",
       "1000  203.0        82  56.0    3.6   4.31   46    62.0   121.0  118.0   59.0   \n",
       "1001  165.0        97  24.0    6.9   4.44   29    64.0   218.0  112.0   68.0   \n",
       "1002  228.0        92  37.0    6.2   4.64   58    61.0   256.0  190.0   92.0   \n",
       "1003   78.0        93  12.0    6.5   4.63   67    67.0   119.0  110.0   50.0   \n",
       "1005  249.0        90  28.0    8.9   7.72   64    68.0   183.0  138.0   80.0   \n",
       "\n",
       "      waist   hip  \n",
       "id                 \n",
       "1000   29.0  38.0  \n",
       "1001   46.0  48.0  \n",
       "1002   49.0  57.0  \n",
       "1003   33.0  38.0  \n",
       "1005   44.0  41.0  "
      ]
     },
     "execution_count": 4,
     "metadata": {},
     "output_type": "execute_result"
    }
   ],
   "source": [
    "\n",
    "df_num = df[['chol', 'stab.glu', 'hdl', 'ratio', 'glyhb', 'age', \n",
    "             'height', 'weight', 'bp.1s', 'bp.1d', 'waist', 'hip']]\n",
    "df_num.head()\n"
   ]
  },
  {
   "cell_type": "code",
   "execution_count": 5,
   "metadata": {},
   "outputs": [],
   "source": [
    "# Now we'll commit a horrible sin and drop all the rows with missing values \n",
    "# without bothering to check why those values are missing.\n",
    "# Remember that in real-life scenarios you should NEVER do this\n",
    "\n",
    "df_num = df_num.dropna()"
   ]
  },
  {
   "cell_type": "code",
   "execution_count": 6,
   "metadata": {},
   "outputs": [
    {
     "data": {
      "text/html": [
       "<div>\n",
       "<style scoped>\n",
       "    .dataframe tbody tr th:only-of-type {\n",
       "        vertical-align: middle;\n",
       "    }\n",
       "\n",
       "    .dataframe tbody tr th {\n",
       "        vertical-align: top;\n",
       "    }\n",
       "\n",
       "    .dataframe thead th {\n",
       "        text-align: right;\n",
       "    }\n",
       "</style>\n",
       "<table border=\"1\" class=\"dataframe\">\n",
       "  <thead>\n",
       "    <tr style=\"text-align: right;\">\n",
       "      <th></th>\n",
       "      <th>chol</th>\n",
       "      <th>stab.glu</th>\n",
       "      <th>hdl</th>\n",
       "      <th>ratio</th>\n",
       "      <th>glyhb</th>\n",
       "      <th>age</th>\n",
       "      <th>height</th>\n",
       "      <th>weight</th>\n",
       "      <th>bp.1s</th>\n",
       "      <th>bp.1d</th>\n",
       "      <th>waist</th>\n",
       "      <th>hip</th>\n",
       "    </tr>\n",
       "  </thead>\n",
       "  <tbody>\n",
       "    <tr>\n",
       "      <th>count</th>\n",
       "      <td>377.000000</td>\n",
       "      <td>377.000000</td>\n",
       "      <td>377.000000</td>\n",
       "      <td>377.000000</td>\n",
       "      <td>377.000000</td>\n",
       "      <td>377.000000</td>\n",
       "      <td>377.000000</td>\n",
       "      <td>377.000000</td>\n",
       "      <td>377.000000</td>\n",
       "      <td>377.000000</td>\n",
       "      <td>377.000000</td>\n",
       "      <td>377.000000</td>\n",
       "    </tr>\n",
       "    <tr>\n",
       "      <th>mean</th>\n",
       "      <td>207.740053</td>\n",
       "      <td>107.519894</td>\n",
       "      <td>50.405836</td>\n",
       "      <td>4.530504</td>\n",
       "      <td>5.595199</td>\n",
       "      <td>46.920424</td>\n",
       "      <td>66.010610</td>\n",
       "      <td>177.997347</td>\n",
       "      <td>137.395225</td>\n",
       "      <td>83.429708</td>\n",
       "      <td>37.957560</td>\n",
       "      <td>43.082228</td>\n",
       "    </tr>\n",
       "    <tr>\n",
       "      <th>std</th>\n",
       "      <td>44.641793</td>\n",
       "      <td>53.961080</td>\n",
       "      <td>17.414755</td>\n",
       "      <td>1.754780</td>\n",
       "      <td>2.213587</td>\n",
       "      <td>16.637532</td>\n",
       "      <td>3.910555</td>\n",
       "      <td>40.499836</td>\n",
       "      <td>23.131798</td>\n",
       "      <td>13.527984</td>\n",
       "      <td>5.761972</td>\n",
       "      <td>5.630098</td>\n",
       "    </tr>\n",
       "    <tr>\n",
       "      <th>min</th>\n",
       "      <td>78.000000</td>\n",
       "      <td>48.000000</td>\n",
       "      <td>12.000000</td>\n",
       "      <td>1.500000</td>\n",
       "      <td>2.680000</td>\n",
       "      <td>19.000000</td>\n",
       "      <td>52.000000</td>\n",
       "      <td>99.000000</td>\n",
       "      <td>90.000000</td>\n",
       "      <td>48.000000</td>\n",
       "      <td>26.000000</td>\n",
       "      <td>30.000000</td>\n",
       "    </tr>\n",
       "    <tr>\n",
       "      <th>25%</th>\n",
       "      <td>179.000000</td>\n",
       "      <td>81.000000</td>\n",
       "      <td>38.000000</td>\n",
       "      <td>3.200000</td>\n",
       "      <td>4.390000</td>\n",
       "      <td>34.000000</td>\n",
       "      <td>63.000000</td>\n",
       "      <td>151.000000</td>\n",
       "      <td>122.000000</td>\n",
       "      <td>75.000000</td>\n",
       "      <td>33.000000</td>\n",
       "      <td>39.000000</td>\n",
       "    </tr>\n",
       "    <tr>\n",
       "      <th>50%</th>\n",
       "      <td>204.000000</td>\n",
       "      <td>90.000000</td>\n",
       "      <td>46.000000</td>\n",
       "      <td>4.200000</td>\n",
       "      <td>4.860000</td>\n",
       "      <td>45.000000</td>\n",
       "      <td>66.000000</td>\n",
       "      <td>174.000000</td>\n",
       "      <td>136.000000</td>\n",
       "      <td>82.000000</td>\n",
       "      <td>37.000000</td>\n",
       "      <td>42.000000</td>\n",
       "    </tr>\n",
       "    <tr>\n",
       "      <th>75%</th>\n",
       "      <td>230.000000</td>\n",
       "      <td>108.000000</td>\n",
       "      <td>59.000000</td>\n",
       "      <td>5.400000</td>\n",
       "      <td>5.630000</td>\n",
       "      <td>60.000000</td>\n",
       "      <td>69.000000</td>\n",
       "      <td>200.000000</td>\n",
       "      <td>148.000000</td>\n",
       "      <td>92.000000</td>\n",
       "      <td>41.000000</td>\n",
       "      <td>46.000000</td>\n",
       "    </tr>\n",
       "    <tr>\n",
       "      <th>max</th>\n",
       "      <td>443.000000</td>\n",
       "      <td>385.000000</td>\n",
       "      <td>120.000000</td>\n",
       "      <td>19.299999</td>\n",
       "      <td>16.110001</td>\n",
       "      <td>92.000000</td>\n",
       "      <td>76.000000</td>\n",
       "      <td>325.000000</td>\n",
       "      <td>250.000000</td>\n",
       "      <td>124.000000</td>\n",
       "      <td>56.000000</td>\n",
       "      <td>64.000000</td>\n",
       "    </tr>\n",
       "  </tbody>\n",
       "</table>\n",
       "</div>"
      ],
      "text/plain": [
       "             chol    stab.glu         hdl       ratio       glyhb         age  \\\n",
       "count  377.000000  377.000000  377.000000  377.000000  377.000000  377.000000   \n",
       "mean   207.740053  107.519894   50.405836    4.530504    5.595199   46.920424   \n",
       "std     44.641793   53.961080   17.414755    1.754780    2.213587   16.637532   \n",
       "min     78.000000   48.000000   12.000000    1.500000    2.680000   19.000000   \n",
       "25%    179.000000   81.000000   38.000000    3.200000    4.390000   34.000000   \n",
       "50%    204.000000   90.000000   46.000000    4.200000    4.860000   45.000000   \n",
       "75%    230.000000  108.000000   59.000000    5.400000    5.630000   60.000000   \n",
       "max    443.000000  385.000000  120.000000   19.299999   16.110001   92.000000   \n",
       "\n",
       "           height      weight       bp.1s       bp.1d       waist         hip  \n",
       "count  377.000000  377.000000  377.000000  377.000000  377.000000  377.000000  \n",
       "mean    66.010610  177.997347  137.395225   83.429708   37.957560   43.082228  \n",
       "std      3.910555   40.499836   23.131798   13.527984    5.761972    5.630098  \n",
       "min     52.000000   99.000000   90.000000   48.000000   26.000000   30.000000  \n",
       "25%     63.000000  151.000000  122.000000   75.000000   33.000000   39.000000  \n",
       "50%     66.000000  174.000000  136.000000   82.000000   37.000000   42.000000  \n",
       "75%     69.000000  200.000000  148.000000   92.000000   41.000000   46.000000  \n",
       "max     76.000000  325.000000  250.000000  124.000000   56.000000   64.000000  "
      ]
     },
     "execution_count": 6,
     "metadata": {},
     "output_type": "execute_result"
    }
   ],
   "source": [
    "# Always a good idea to start by describing the dataset\n",
    "df_num.describe()"
   ]
  },
  {
   "cell_type": "code",
   "execution_count": 7,
   "metadata": {},
   "outputs": [
    {
     "data": {
      "text/plain": [
       "<matplotlib.axes._subplots.AxesSubplot at 0x1204c3048>"
      ]
     },
     "execution_count": 7,
     "metadata": {},
     "output_type": "execute_result"
    },
    {
     "data": {
      "image/png": "[encoded data removed]",
      "text/plain": [
       "<Figure size 432x288 with 1 Axes>"
      ]
     },
     "metadata": {
      "needs_background": "light"
     },
     "output_type": "display_data"
    }
   ],
   "source": [
    "# Let's check for outliers\n",
    "df[\"chol\"].hist(bins=150)"
   ]
  },
  {
   "cell_type": "code",
   "execution_count": 9,
   "metadata": {},
   "outputs": [
    {
     "data": {
      "text/plain": [
       "<matplotlib.axes._subplots.AxesSubplot at 0x120b595c0>"
      ]
     },
     "execution_count": 9,
     "metadata": {},
     "output_type": "execute_result"
    },
    {
     "data": {
      "image/png": "[encoded data removed]",
      "text/plain": [
       "<Figure size 432x288 with 1 Axes>"
      ]
     },
     "metadata": {
      "needs_background": "light"
     },
     "output_type": "display_data"
    }
   ],
   "source": [
    "# Let's check for outliers\n",
    "df[\"stab.glu\"].hist(bins=150)"
   ]
  },
  {
   "cell_type": "markdown",
   "metadata": {},
   "source": [
    "**Subtracting Column Means**\n",
    "\n",
    "With the column means in hand, we just need to subtract the column means from each row in an element-wise fashion to zero center the data. Pandas performs math operations involving DataFrames and columns on an element-wise row-by-row basis by default, so we can simply subtract our column means series from the data set to center it"
   ]
  },
  {
   "cell_type": "code",
   "execution_count": 10,
   "metadata": {
    "scrolled": true
   },
   "outputs": [
    {
     "data": {
      "text/plain": [
       "chol        207.740053\n",
       "stab.glu    107.519894\n",
       "hdl          50.405836\n",
       "ratio         4.530504\n",
       "glyhb         5.595199\n",
       "age          46.920424\n",
       "height       66.010610\n",
       "weight      177.997347\n",
       "bp.1s       137.395225\n",
       "bp.1d        83.429708\n",
       "waist        37.957560\n",
       "hip          43.082228\n",
       "dtype: float64"
      ]
     },
     "execution_count": 10,
     "metadata": {},
     "output_type": "execute_result"
    }
   ],
   "source": [
    "df_num.mean()"
   ]
  },
  {
   "cell_type": "code",
   "execution_count": 12,
   "metadata": {},
   "outputs": [
    {
     "data": {
      "text/plain": [
       "377"
      ]
     },
     "execution_count": 12,
     "metadata": {},
     "output_type": "execute_result"
    }
   ],
   "source": [
    "df_num.shape[0]"
   ]
  },
  {
   "cell_type": "code",
   "execution_count": 13,
   "metadata": {},
   "outputs": [
    {
     "data": {
      "text/plain": [
       "chol        207.740053\n",
       "stab.glu    107.519894\n",
       "hdl          50.405836\n",
       "ratio         4.530504\n",
       "glyhb         5.595199\n",
       "age          46.920424\n",
       "height       66.010610\n",
       "weight      177.997347\n",
       "bp.1s       137.395225\n",
       "bp.1d        83.429708\n",
       "waist        37.957560\n",
       "hip          43.082228\n",
       "dtype: float64"
      ]
     },
     "execution_count": 13,
     "metadata": {},
     "output_type": "execute_result"
    }
   ],
   "source": [
    "# Calculate column means\n",
    "colmeans = df_num.sum()/df_num.shape[0]  # Get column means\n",
    "colmeans"
   ]
  },
  {
   "cell_type": "code",
   "execution_count": 14,
   "metadata": {},
   "outputs": [
    {
     "data": {
      "text/plain": [
       "chol        207.740053\n",
       "stab.glu    107.519894\n",
       "hdl          50.405836\n",
       "ratio         4.530504\n",
       "glyhb         5.595199\n",
       "age          46.920424\n",
       "height       66.010610\n",
       "weight      177.997347\n",
       "bp.1s       137.395225\n",
       "bp.1d        83.429708\n",
       "waist        37.957560\n",
       "hip          43.082228\n",
       "dtype: float64"
      ]
     },
     "execution_count": 14,
     "metadata": {},
     "output_type": "execute_result"
    }
   ],
   "source": [
    "colmeans1 = df_num.mean()\n",
    "colmeans1"
   ]
  },
  {
   "cell_type": "code",
   "execution_count": 15,
   "metadata": {},
   "outputs": [
    {
     "data": {
      "text/html": [
       "<div>\n",
       "<style scoped>\n",
       "    .dataframe tbody tr th:only-of-type {\n",
       "        vertical-align: middle;\n",
       "    }\n",
       "\n",
       "    .dataframe tbody tr th {\n",
       "        vertical-align: top;\n",
       "    }\n",
       "\n",
       "    .dataframe thead th {\n",
       "        text-align: right;\n",
       "    }\n",
       "</style>\n",
       "<table border=\"1\" class=\"dataframe\">\n",
       "  <thead>\n",
       "    <tr style=\"text-align: right;\">\n",
       "      <th></th>\n",
       "      <th>chol</th>\n",
       "      <th>stab.glu</th>\n",
       "      <th>hdl</th>\n",
       "      <th>ratio</th>\n",
       "      <th>glyhb</th>\n",
       "      <th>age</th>\n",
       "      <th>height</th>\n",
       "      <th>weight</th>\n",
       "      <th>bp.1s</th>\n",
       "      <th>bp.1d</th>\n",
       "      <th>waist</th>\n",
       "      <th>hip</th>\n",
       "    </tr>\n",
       "  </thead>\n",
       "  <tbody>\n",
       "    <tr>\n",
       "      <th>count</th>\n",
       "      <td>3.770000e+02</td>\n",
       "      <td>3.770000e+02</td>\n",
       "      <td>3.770000e+02</td>\n",
       "      <td>3.770000e+02</td>\n",
       "      <td>3.770000e+02</td>\n",
       "      <td>3.770000e+02</td>\n",
       "      <td>3.770000e+02</td>\n",
       "      <td>3.770000e+02</td>\n",
       "      <td>3.770000e+02</td>\n",
       "      <td>3.770000e+02</td>\n",
       "      <td>3.770000e+02</td>\n",
       "      <td>3.770000e+02</td>\n",
       "    </tr>\n",
       "    <tr>\n",
       "      <th>mean</th>\n",
       "      <td>9.951368e-15</td>\n",
       "      <td>-5.126462e-15</td>\n",
       "      <td>-3.863694e-15</td>\n",
       "      <td>5.147665e-16</td>\n",
       "      <td>-3.597476e-15</td>\n",
       "      <td>-2.318216e-15</td>\n",
       "      <td>-2.412453e-15</td>\n",
       "      <td>6.031132e-16</td>\n",
       "      <td>-3.920236e-15</td>\n",
       "      <td>3.279428e-15</td>\n",
       "      <td>3.260581e-15</td>\n",
       "      <td>3.072108e-15</td>\n",
       "    </tr>\n",
       "    <tr>\n",
       "      <th>std</th>\n",
       "      <td>4.464179e+01</td>\n",
       "      <td>5.396108e+01</td>\n",
       "      <td>1.741475e+01</td>\n",
       "      <td>1.754780e+00</td>\n",
       "      <td>2.213587e+00</td>\n",
       "      <td>1.663753e+01</td>\n",
       "      <td>3.910555e+00</td>\n",
       "      <td>4.049984e+01</td>\n",
       "      <td>2.313180e+01</td>\n",
       "      <td>1.352798e+01</td>\n",
       "      <td>5.761972e+00</td>\n",
       "      <td>5.630098e+00</td>\n",
       "    </tr>\n",
       "    <tr>\n",
       "      <th>min</th>\n",
       "      <td>-1.297401e+02</td>\n",
       "      <td>-5.951989e+01</td>\n",
       "      <td>-3.840584e+01</td>\n",
       "      <td>-3.030504e+00</td>\n",
       "      <td>-2.915199e+00</td>\n",
       "      <td>-2.792042e+01</td>\n",
       "      <td>-1.401061e+01</td>\n",
       "      <td>-7.899735e+01</td>\n",
       "      <td>-4.739523e+01</td>\n",
       "      <td>-3.542971e+01</td>\n",
       "      <td>-1.195756e+01</td>\n",
       "      <td>-1.308223e+01</td>\n",
       "    </tr>\n",
       "    <tr>\n",
       "      <th>25%</th>\n",
       "      <td>-2.874005e+01</td>\n",
       "      <td>-2.651989e+01</td>\n",
       "      <td>-1.240584e+01</td>\n",
       "      <td>-1.330504e+00</td>\n",
       "      <td>-1.205199e+00</td>\n",
       "      <td>-1.292042e+01</td>\n",
       "      <td>-3.010610e+00</td>\n",
       "      <td>-2.699735e+01</td>\n",
       "      <td>-1.539523e+01</td>\n",
       "      <td>-8.429708e+00</td>\n",
       "      <td>-4.957560e+00</td>\n",
       "      <td>-4.082228e+00</td>\n",
       "    </tr>\n",
       "    <tr>\n",
       "      <th>50%</th>\n",
       "      <td>-3.740053e+00</td>\n",
       "      <td>-1.751989e+01</td>\n",
       "      <td>-4.405836e+00</td>\n",
       "      <td>-3.305042e-01</td>\n",
       "      <td>-7.351988e-01</td>\n",
       "      <td>-1.920424e+00</td>\n",
       "      <td>-1.061008e-02</td>\n",
       "      <td>-3.997347e+00</td>\n",
       "      <td>-1.395225e+00</td>\n",
       "      <td>-1.429708e+00</td>\n",
       "      <td>-9.575597e-01</td>\n",
       "      <td>-1.082228e+00</td>\n",
       "    </tr>\n",
       "    <tr>\n",
       "      <th>75%</th>\n",
       "      <td>2.225995e+01</td>\n",
       "      <td>4.801061e-01</td>\n",
       "      <td>8.594164e+00</td>\n",
       "      <td>8.694961e-01</td>\n",
       "      <td>3.480117e-02</td>\n",
       "      <td>1.307958e+01</td>\n",
       "      <td>2.989390e+00</td>\n",
       "      <td>2.200265e+01</td>\n",
       "      <td>1.060477e+01</td>\n",
       "      <td>8.570292e+00</td>\n",
       "      <td>3.042440e+00</td>\n",
       "      <td>2.917772e+00</td>\n",
       "    </tr>\n",
       "    <tr>\n",
       "      <th>max</th>\n",
       "      <td>2.352599e+02</td>\n",
       "      <td>2.774801e+02</td>\n",
       "      <td>6.959416e+01</td>\n",
       "      <td>1.476950e+01</td>\n",
       "      <td>1.051480e+01</td>\n",
       "      <td>4.507958e+01</td>\n",
       "      <td>9.989390e+00</td>\n",
       "      <td>1.470027e+02</td>\n",
       "      <td>1.126048e+02</td>\n",
       "      <td>4.057029e+01</td>\n",
       "      <td>1.804244e+01</td>\n",
       "      <td>2.091777e+01</td>\n",
       "    </tr>\n",
       "  </tbody>\n",
       "</table>\n",
       "</div>"
      ],
      "text/plain": [
       "               chol      stab.glu           hdl         ratio         glyhb  \\\n",
       "count  3.770000e+02  3.770000e+02  3.770000e+02  3.770000e+02  3.770000e+02   \n",
       "mean   9.951368e-15 -5.126462e-15 -3.863694e-15  5.147665e-16 -3.597476e-15   \n",
       "std    4.464179e+01  5.396108e+01  1.741475e+01  1.754780e+00  2.213587e+00   \n",
       "min   -1.297401e+02 -5.951989e+01 -3.840584e+01 -3.030504e+00 -2.915199e+00   \n",
       "25%   -2.874005e+01 -2.651989e+01 -1.240584e+01 -1.330504e+00 -1.205199e+00   \n",
       "50%   -3.740053e+00 -1.751989e+01 -4.405836e+00 -3.305042e-01 -7.351988e-01   \n",
       "75%    2.225995e+01  4.801061e-01  8.594164e+00  8.694961e-01  3.480117e-02   \n",
       "max    2.352599e+02  2.774801e+02  6.959416e+01  1.476950e+01  1.051480e+01   \n",
       "\n",
       "                age        height        weight         bp.1s         bp.1d  \\\n",
       "count  3.770000e+02  3.770000e+02  3.770000e+02  3.770000e+02  3.770000e+02   \n",
       "mean  -2.318216e-15 -2.412453e-15  6.031132e-16 -3.920236e-15  3.279428e-15   \n",
       "std    1.663753e+01  3.910555e+00  4.049984e+01  2.313180e+01  1.352798e+01   \n",
       "min   -2.792042e+01 -1.401061e+01 -7.899735e+01 -4.739523e+01 -3.542971e+01   \n",
       "25%   -1.292042e+01 -3.010610e+00 -2.699735e+01 -1.539523e+01 -8.429708e+00   \n",
       "50%   -1.920424e+00 -1.061008e-02 -3.997347e+00 -1.395225e+00 -1.429708e+00   \n",
       "75%    1.307958e+01  2.989390e+00  2.200265e+01  1.060477e+01  8.570292e+00   \n",
       "max    4.507958e+01  9.989390e+00  1.470027e+02  1.126048e+02  4.057029e+01   \n",
       "\n",
       "              waist           hip  \n",
       "count  3.770000e+02  3.770000e+02  \n",
       "mean   3.260581e-15  3.072108e-15  \n",
       "std    5.761972e+00  5.630098e+00  \n",
       "min   -1.195756e+01 -1.308223e+01  \n",
       "25%   -4.957560e+00 -4.082228e+00  \n",
       "50%   -9.575597e-01 -1.082228e+00  \n",
       "75%    3.042440e+00  2.917772e+00  \n",
       "max    1.804244e+01  2.091777e+01  "
      ]
     },
     "execution_count": 15,
     "metadata": {},
     "output_type": "execute_result"
    }
   ],
   "source": [
    "# Subract column means\n",
    "\n",
    "centered = df_num - colmeans\n",
    "centered.describe()"
   ]
  },
  {
   "cell_type": "code",
   "execution_count": 17,
   "metadata": {
    "scrolled": true
   },
   "outputs": [
    {
     "data": {
      "text/plain": [
       "<matplotlib.axes._subplots.AxesSubplot at 0x12177ccc0>"
      ]
     },
     "execution_count": 17,
     "metadata": {},
     "output_type": "execute_result"
    },
    {
     "data": {
      "image/png": "[encoded data removed]",
      "text/plain": [
       "<Figure size 432x288 with 1 Axes>"
      ]
     },
     "metadata": {
      "needs_background": "light"
     },
     "output_type": "display_data"
    }
   ],
   "source": [
    "df_num[\"stab.glu\"].hist(bins=150)"
   ]
  },
  {
   "cell_type": "code",
   "execution_count": 19,
   "metadata": {},
   "outputs": [
    {
     "data": {
      "text/plain": [
       "<matplotlib.axes._subplots.AxesSubplot at 0x121925160>"
      ]
     },
     "execution_count": 19,
     "metadata": {},
     "output_type": "execute_result"
    },
    {
     "data": {
      "image/png": "[encoded data removed]",
      "text/plain": [
       "<Figure size 432x288 with 1 Axes>"
      ]
     },
     "metadata": {
      "needs_background": "light"
     },
     "output_type": "display_data"
    }
   ],
   "source": [
    "centered[\"stab.glu\"].hist(bins=150)"
   ]
  },
  {
   "cell_type": "code",
   "execution_count": 18,
   "metadata": {
    "scrolled": false
   },
   "outputs": [
    {
     "data": {
      "text/plain": [
       "count    3.770000e+02\n",
       "mean     9.951368e-15\n",
       "std      4.464179e+01\n",
       "min     -1.297401e+02\n",
       "25%     -2.874005e+01\n",
       "50%     -3.740053e+00\n",
       "75%      2.225995e+01\n",
       "max      2.352599e+02\n",
       "Name: chol_centered, dtype: float64"
      ]
     },
     "execution_count": 18,
     "metadata": {},
     "output_type": "execute_result"
    }
   ],
   "source": [
    "df_num[\"chol_centered\"] = df_num[\"chol\"] - df_num[\"chol\"].mean()\n",
    "df_num[\"chol_centered\"].describe()"
   ]
  },
  {
   "cell_type": "code",
   "execution_count": null,
   "metadata": {},
   "outputs": [],
   "source": []
  },
  {
   "cell_type": "code",
   "execution_count": 19,
   "metadata": {},
   "outputs": [
    {
     "data": {
      "text/plain": [
       "count    377.000000\n",
       "mean     207.740053\n",
       "std       44.641793\n",
       "min       78.000000\n",
       "25%      179.000000\n",
       "50%      204.000000\n",
       "75%      230.000000\n",
       "max      443.000000\n",
       "Name: chol, dtype: float64"
      ]
     },
     "execution_count": 19,
     "metadata": {},
     "output_type": "execute_result"
    }
   ],
   "source": [
    "df_num[\"chol\"].describe()"
   ]
  },
  {
   "cell_type": "code",
   "execution_count": 20,
   "metadata": {},
   "outputs": [
    {
     "data": {
      "text/plain": [
       "<matplotlib.axes._subplots.AxesSubplot at 0x121c73390>"
      ]
     },
     "execution_count": 20,
     "metadata": {},
     "output_type": "execute_result"
    },
    {
     "data": {
      "image/png": "[encoded data removed]",
      "text/plain": [
       "<Figure size 432x288 with 1 Axes>"
      ]
     },
     "metadata": {
      "needs_background": "light"
     },
     "output_type": "display_data"
    }
   ],
   "source": [
    "df_num[\"chol\"].hist(bins=150)"
   ]
  },
  {
   "cell_type": "code",
   "execution_count": 21,
   "metadata": {},
   "outputs": [
    {
     "data": {
      "text/plain": [
       "<matplotlib.axes._subplots.AxesSubplot at 0x1212990b8>"
      ]
     },
     "execution_count": 21,
     "metadata": {},
     "output_type": "execute_result"
    },
    {
     "data": {
      "image/png": "[encoded data removed]",
      "text/plain": [
       "<Figure size 432x288 with 1 Axes>"
      ]
     },
     "metadata": {
      "needs_background": "light"
     },
     "output_type": "display_data"
    }
   ],
   "source": [
    "centered[\"chol\"].hist(bins=150)"
   ]
  },
  {
   "cell_type": "markdown",
   "metadata": {},
   "source": [
    "** Scaling using Standard Deviation **\n",
    "\n",
    "With zero-centered data, negative values are below average and positive values are above average.\n",
    "Now that the data is centered, we'd like to put it all on a common scale. One way to put data on a common scale is to divide by the standard deviation. Standard deviation is a statistic that describes the spread of numeric data. The higher the standard deviation, the further the data points tend to be spread away from the mean value. You can get standard deviations with df.std():"
   ]
  },
  {
   "cell_type": "code",
   "execution_count": 22,
   "metadata": {},
   "outputs": [
    {
     "data": {
      "text/html": [
       "<div>\n",
       "<style scoped>\n",
       "    .dataframe tbody tr th:only-of-type {\n",
       "        vertical-align: middle;\n",
       "    }\n",
       "\n",
       "    .dataframe tbody tr th {\n",
       "        vertical-align: top;\n",
       "    }\n",
       "\n",
       "    .dataframe thead th {\n",
       "        text-align: right;\n",
       "    }\n",
       "</style>\n",
       "<table border=\"1\" class=\"dataframe\">\n",
       "  <thead>\n",
       "    <tr style=\"text-align: right;\">\n",
       "      <th></th>\n",
       "      <th>chol</th>\n",
       "      <th>stab.glu</th>\n",
       "      <th>hdl</th>\n",
       "      <th>ratio</th>\n",
       "      <th>glyhb</th>\n",
       "      <th>age</th>\n",
       "      <th>height</th>\n",
       "      <th>weight</th>\n",
       "      <th>bp.1s</th>\n",
       "      <th>bp.1d</th>\n",
       "      <th>waist</th>\n",
       "      <th>hip</th>\n",
       "    </tr>\n",
       "  </thead>\n",
       "  <tbody>\n",
       "    <tr>\n",
       "      <th>count</th>\n",
       "      <td>3.770000e+02</td>\n",
       "      <td>3.770000e+02</td>\n",
       "      <td>3.770000e+02</td>\n",
       "      <td>3.770000e+02</td>\n",
       "      <td>3.770000e+02</td>\n",
       "      <td>3.770000e+02</td>\n",
       "      <td>3.770000e+02</td>\n",
       "      <td>3.770000e+02</td>\n",
       "      <td>3.770000e+02</td>\n",
       "      <td>3.770000e+02</td>\n",
       "      <td>3.770000e+02</td>\n",
       "      <td>3.770000e+02</td>\n",
       "    </tr>\n",
       "    <tr>\n",
       "      <th>mean</th>\n",
       "      <td>4.078671e-17</td>\n",
       "      <td>-6.154817e-17</td>\n",
       "      <td>2.665124e-17</td>\n",
       "      <td>2.847707e-16</td>\n",
       "      <td>-1.644868e-15</td>\n",
       "      <td>-1.856752e-16</td>\n",
       "      <td>-6.166597e-16</td>\n",
       "      <td>1.339924e-17</td>\n",
       "      <td>-1.973075e-16</td>\n",
       "      <td>1.811107e-16</td>\n",
       "      <td>4.552798e-16</td>\n",
       "      <td>4.920909e-16</td>\n",
       "    </tr>\n",
       "    <tr>\n",
       "      <th>std</th>\n",
       "      <td>1.000000e+00</td>\n",
       "      <td>1.000000e+00</td>\n",
       "      <td>1.000000e+00</td>\n",
       "      <td>1.000000e+00</td>\n",
       "      <td>1.000000e+00</td>\n",
       "      <td>1.000000e+00</td>\n",
       "      <td>1.000000e+00</td>\n",
       "      <td>1.000000e+00</td>\n",
       "      <td>1.000000e+00</td>\n",
       "      <td>1.000000e+00</td>\n",
       "      <td>1.000000e+00</td>\n",
       "      <td>1.000000e+00</td>\n",
       "    </tr>\n",
       "    <tr>\n",
       "      <th>min</th>\n",
       "      <td>-2.906246e+00</td>\n",
       "      <td>-1.103015e+00</td>\n",
       "      <td>-2.205362e+00</td>\n",
       "      <td>-1.726999e+00</td>\n",
       "      <td>-1.316957e+00</td>\n",
       "      <td>-1.678159e+00</td>\n",
       "      <td>-3.582768e+00</td>\n",
       "      <td>-1.950560e+00</td>\n",
       "      <td>-2.048921e+00</td>\n",
       "      <td>-2.618994e+00</td>\n",
       "      <td>-2.075255e+00</td>\n",
       "      <td>-2.323623e+00</td>\n",
       "    </tr>\n",
       "    <tr>\n",
       "      <th>25%</th>\n",
       "      <td>-6.437925e-01</td>\n",
       "      <td>-4.914634e-01</td>\n",
       "      <td>-7.123750e-01</td>\n",
       "      <td>-7.582169e-01</td>\n",
       "      <td>-5.444554e-01</td>\n",
       "      <td>-7.765830e-01</td>\n",
       "      <td>-7.698677e-01</td>\n",
       "      <td>-6.666039e-01</td>\n",
       "      <td>-6.655438e-01</td>\n",
       "      <td>-6.231312e-01</td>\n",
       "      <td>-8.603929e-01</td>\n",
       "      <td>-7.250723e-01</td>\n",
       "    </tr>\n",
       "    <tr>\n",
       "      <th>50%</th>\n",
       "      <td>-8.377919e-02</td>\n",
       "      <td>-3.246765e-01</td>\n",
       "      <td>-2.529944e-01</td>\n",
       "      <td>-1.883451e-01</td>\n",
       "      <td>-3.321301e-01</td>\n",
       "      <td>-1.154272e-01</td>\n",
       "      <td>-2.713190e-03</td>\n",
       "      <td>-9.870034e-02</td>\n",
       "      <td>-6.031634e-02</td>\n",
       "      <td>-1.056852e-01</td>\n",
       "      <td>-1.661861e-01</td>\n",
       "      <td>-1.922219e-01</td>\n",
       "    </tr>\n",
       "    <tr>\n",
       "      <th>75%</th>\n",
       "      <td>4.986347e-01</td>\n",
       "      <td>8.897266e-03</td>\n",
       "      <td>4.934990e-01</td>\n",
       "      <td>4.955015e-01</td>\n",
       "      <td>1.572162e-02</td>\n",
       "      <td>7.861488e-01</td>\n",
       "      <td>7.644413e-01</td>\n",
       "      <td>5.432776e-01</td>\n",
       "      <td>4.584501e-01</td>\n",
       "      <td>6.335232e-01</td>\n",
       "      <td>5.280207e-01</td>\n",
       "      <td>5.182453e-01</td>\n",
       "    </tr>\n",
       "    <tr>\n",
       "      <th>max</th>\n",
       "      <td>5.269948e+00</td>\n",
       "      <td>5.142227e+00</td>\n",
       "      <td>3.996276e+00</td>\n",
       "      <td>8.416721e+00</td>\n",
       "      <td>4.750120e+00</td>\n",
       "      <td>2.709511e+00</td>\n",
       "      <td>2.554469e+00</td>\n",
       "      <td>3.629710e+00</td>\n",
       "      <td>4.867965e+00</td>\n",
       "      <td>2.998990e+00</td>\n",
       "      <td>3.131296e+00</td>\n",
       "      <td>3.715347e+00</td>\n",
       "    </tr>\n",
       "  </tbody>\n",
       "</table>\n",
       "</div>"
      ],
      "text/plain": [
       "               chol      stab.glu           hdl         ratio         glyhb  \\\n",
       "count  3.770000e+02  3.770000e+02  3.770000e+02  3.770000e+02  3.770000e+02   \n",
       "mean   4.078671e-17 -6.154817e-17  2.665124e-17  2.847707e-16 -1.644868e-15   \n",
       "std    1.000000e+00  1.000000e+00  1.000000e+00  1.000000e+00  1.000000e+00   \n",
       "min   -2.906246e+00 -1.103015e+00 -2.205362e+00 -1.726999e+00 -1.316957e+00   \n",
       "25%   -6.437925e-01 -4.914634e-01 -7.123750e-01 -7.582169e-01 -5.444554e-01   \n",
       "50%   -8.377919e-02 -3.246765e-01 -2.529944e-01 -1.883451e-01 -3.321301e-01   \n",
       "75%    4.986347e-01  8.897266e-03  4.934990e-01  4.955015e-01  1.572162e-02   \n",
       "max    5.269948e+00  5.142227e+00  3.996276e+00  8.416721e+00  4.750120e+00   \n",
       "\n",
       "                age        height        weight         bp.1s         bp.1d  \\\n",
       "count  3.770000e+02  3.770000e+02  3.770000e+02  3.770000e+02  3.770000e+02   \n",
       "mean  -1.856752e-16 -6.166597e-16  1.339924e-17 -1.973075e-16  1.811107e-16   \n",
       "std    1.000000e+00  1.000000e+00  1.000000e+00  1.000000e+00  1.000000e+00   \n",
       "min   -1.678159e+00 -3.582768e+00 -1.950560e+00 -2.048921e+00 -2.618994e+00   \n",
       "25%   -7.765830e-01 -7.698677e-01 -6.666039e-01 -6.655438e-01 -6.231312e-01   \n",
       "50%   -1.154272e-01 -2.713190e-03 -9.870034e-02 -6.031634e-02 -1.056852e-01   \n",
       "75%    7.861488e-01  7.644413e-01  5.432776e-01  4.584501e-01  6.335232e-01   \n",
       "max    2.709511e+00  2.554469e+00  3.629710e+00  4.867965e+00  2.998990e+00   \n",
       "\n",
       "              waist           hip  \n",
       "count  3.770000e+02  3.770000e+02  \n",
       "mean   4.552798e-16  4.920909e-16  \n",
       "std    1.000000e+00  1.000000e+00  \n",
       "min   -2.075255e+00 -2.323623e+00  \n",
       "25%   -8.603929e-01 -7.250723e-01  \n",
       "50%   -1.661861e-01 -1.922219e-01  \n",
       "75%    5.280207e-01  5.182453e-01  \n",
       "max    3.131296e+00  3.715347e+00  "
      ]
     },
     "execution_count": 22,
     "metadata": {},
     "output_type": "execute_result"
    }
   ],
   "source": [
    "column_deviations = df_num.std(axis=0)   # Get column standard deviations\n",
    "\n",
    "centered_and_scaled = centered/column_deviations \n",
    "\n",
    "centered_and_scaled.describe()"
   ]
  },
  {
   "cell_type": "code",
   "execution_count": 23,
   "metadata": {},
   "outputs": [
    {
     "data": {
      "text/plain": [
       "<matplotlib.axes._subplots.AxesSubplot at 0x1222ef358>"
      ]
     },
     "execution_count": 23,
     "metadata": {},
     "output_type": "execute_result"
    },
    {
     "data": {
      "image/png": "[encoded data removed]",
      "text/plain": [
       "<Figure size 432x288 with 1 Axes>"
      ]
     },
     "metadata": {
      "needs_background": "light"
     },
     "output_type": "display_data"
    }
   ],
   "source": [
    "centered_and_scaled[\"chol\"].hist(bins=150)"
   ]
  },
  {
   "cell_type": "markdown",
   "metadata": {},
   "source": [
    "** Carefully take a look at the results above **\n",
    "\n",
    "Notice that after dividing by the standard deviation, every variable now has a standard deviation of 1. At this point, all the columns have roughly the same mean and scale of spread about the mean."
   ]
  },
  {
   "cell_type": "markdown",
   "metadata": {},
   "source": [
    "** Let the Machine Do It**\n",
    "\n",
    "Now that you have suffered through manually centering and scaling the data, let's take a look at performing common data preprocessing automatically using functions built into Python libraries. The Python library **scikit-learn**, a popular package for predictive modeling and data analysis, has preprocessing tools including a scale() function for centering and scaling data"
   ]
  },
  {
   "cell_type": "code",
   "execution_count": 24,
   "metadata": {},
   "outputs": [],
   "source": [
    "from sklearn import preprocessing as prep"
   ]
  },
  {
   "cell_type": "code",
   "execution_count": 27,
   "metadata": {},
   "outputs": [
    {
     "name": "stdout",
     "output_type": "stream",
     "text": [
      "[[-0.10632082 -0.47355997  0.32165819 ... -1.80826449 -1.55666556\n",
      "  -0.90388863]\n",
      " [-0.9586723  -0.19521244 -1.51830597 ... -1.14209278  1.39763399\n",
      "   0.87463962]\n",
      " [ 0.45443673 -0.28799495 -0.77082053 ...  0.6343651   1.91898097\n",
      "   2.47531505]\n",
      " ...\n",
      " [ 1.71053364 -0.34366445  0.20666043 ...  1.22651773 -1.03531858\n",
      "  -0.0146245 ]\n",
      " [-0.30819354  2.99650596 -0.71332165 ... -0.99405463 -0.86153625\n",
      "  -0.54818298]\n",
      " [-0.19604203 -0.58489898  0.09166267 ... -0.401902    0.52872236\n",
      "   0.87463962]]\n"
     ]
    },
    {
     "name": "stderr",
     "output_type": "stream",
     "text": [
      "/anaconda3/lib/python3.7/site-packages/ipykernel_launcher.py:1: DataConversionWarning: Data with input dtype int64, float64 were all converted to float64 by the scale function.\n",
      "  \"\"\"Entry point for launching an IPython kernel.\n"
     ]
    }
   ],
   "source": [
    "scaled_data = prep.scale(df_num)  # Scale the data*\n",
    "print(scaled_data)"
   ]
  },
  {
   "cell_type": "code",
   "execution_count": 28,
   "metadata": {},
   "outputs": [
    {
     "name": "stderr",
     "output_type": "stream",
     "text": [
      "/anaconda3/lib/python3.7/site-packages/ipykernel_launcher.py:1: DataConversionWarning: Data with input dtype int64, float64 were all converted to float64 by the scale function.\n",
      "  \"\"\"Entry point for launching an IPython kernel.\n"
     ]
    },
    {
     "data": {
      "text/html": [
       "<div>\n",
       "<style scoped>\n",
       "    .dataframe tbody tr th:only-of-type {\n",
       "        vertical-align: middle;\n",
       "    }\n",
       "\n",
       "    .dataframe tbody tr th {\n",
       "        vertical-align: top;\n",
       "    }\n",
       "\n",
       "    .dataframe thead th {\n",
       "        text-align: right;\n",
       "    }\n",
       "</style>\n",
       "<table border=\"1\" class=\"dataframe\">\n",
       "  <thead>\n",
       "    <tr style=\"text-align: right;\">\n",
       "      <th></th>\n",
       "      <th>chol</th>\n",
       "      <th>stab.glu</th>\n",
       "      <th>hdl</th>\n",
       "      <th>ratio</th>\n",
       "      <th>glyhb</th>\n",
       "      <th>age</th>\n",
       "      <th>height</th>\n",
       "      <th>weight</th>\n",
       "      <th>bp.1s</th>\n",
       "      <th>bp.1d</th>\n",
       "      <th>waist</th>\n",
       "      <th>hip</th>\n",
       "    </tr>\n",
       "  </thead>\n",
       "  <tbody>\n",
       "    <tr>\n",
       "      <th>count</th>\n",
       "      <td>3.770000e+02</td>\n",
       "      <td>3.770000e+02</td>\n",
       "      <td>3.770000e+02</td>\n",
       "      <td>3.770000e+02</td>\n",
       "      <td>3.770000e+02</td>\n",
       "      <td>3.770000e+02</td>\n",
       "      <td>3.770000e+02</td>\n",
       "      <td>3.770000e+02</td>\n",
       "      <td>3.770000e+02</td>\n",
       "      <td>3.770000e+02</td>\n",
       "      <td>3.770000e+02</td>\n",
       "      <td>3.770000e+02</td>\n",
       "    </tr>\n",
       "    <tr>\n",
       "      <th>mean</th>\n",
       "      <td>4.763357e-17</td>\n",
       "      <td>-1.172066e-16</td>\n",
       "      <td>-7.546277e-18</td>\n",
       "      <td>2.994952e-16</td>\n",
       "      <td>-5.771982e-17</td>\n",
       "      <td>-1.613799e-16</td>\n",
       "      <td>-6.343290e-16</td>\n",
       "      <td>8.834666e-19</td>\n",
       "      <td>-1.949516e-16</td>\n",
       "      <td>1.094026e-16</td>\n",
       "      <td>4.649979e-16</td>\n",
       "      <td>4.588137e-16</td>\n",
       "    </tr>\n",
       "    <tr>\n",
       "      <th>std</th>\n",
       "      <td>1.001329e+00</td>\n",
       "      <td>1.001329e+00</td>\n",
       "      <td>1.001329e+00</td>\n",
       "      <td>1.001329e+00</td>\n",
       "      <td>1.001329e+00</td>\n",
       "      <td>1.001329e+00</td>\n",
       "      <td>1.001329e+00</td>\n",
       "      <td>1.001329e+00</td>\n",
       "      <td>1.001329e+00</td>\n",
       "      <td>1.001329e+00</td>\n",
       "      <td>1.001329e+00</td>\n",
       "      <td>1.001329e+00</td>\n",
       "    </tr>\n",
       "    <tr>\n",
       "      <th>min</th>\n",
       "      <td>-2.910109e+00</td>\n",
       "      <td>-1.104481e+00</td>\n",
       "      <td>-2.208293e+00</td>\n",
       "      <td>-1.729294e+00</td>\n",
       "      <td>-1.318707e+00</td>\n",
       "      <td>-1.680389e+00</td>\n",
       "      <td>-3.587529e+00</td>\n",
       "      <td>-1.953152e+00</td>\n",
       "      <td>-2.051644e+00</td>\n",
       "      <td>-2.622474e+00</td>\n",
       "      <td>-2.078013e+00</td>\n",
       "      <td>-2.326711e+00</td>\n",
       "    </tr>\n",
       "    <tr>\n",
       "      <th>25%</th>\n",
       "      <td>-6.446481e-01</td>\n",
       "      <td>-4.921165e-01</td>\n",
       "      <td>-7.133216e-01</td>\n",
       "      <td>-7.592245e-01</td>\n",
       "      <td>-5.451789e-01</td>\n",
       "      <td>-7.776150e-01</td>\n",
       "      <td>-7.708908e-01</td>\n",
       "      <td>-6.674897e-01</td>\n",
       "      <td>-6.664283e-01</td>\n",
       "      <td>-6.239592e-01</td>\n",
       "      <td>-8.615363e-01</td>\n",
       "      <td>-7.260358e-01</td>\n",
       "    </tr>\n",
       "    <tr>\n",
       "      <th>50%</th>\n",
       "      <td>-8.389052e-02</td>\n",
       "      <td>-3.251080e-01</td>\n",
       "      <td>-2.533306e-01</td>\n",
       "      <td>-1.885954e-01</td>\n",
       "      <td>-3.325715e-01</td>\n",
       "      <td>-1.155806e-01</td>\n",
       "      <td>-2.716796e-03</td>\n",
       "      <td>-9.883150e-02</td>\n",
       "      <td>-6.039650e-02</td>\n",
       "      <td>-1.058257e-01</td>\n",
       "      <td>-1.664069e-01</td>\n",
       "      <td>-1.924773e-01</td>\n",
       "    </tr>\n",
       "    <tr>\n",
       "      <th>75%</th>\n",
       "      <td>4.992973e-01</td>\n",
       "      <td>8.909090e-03</td>\n",
       "      <td>4.941548e-01</td>\n",
       "      <td>4.961599e-01</td>\n",
       "      <td>1.574251e-02</td>\n",
       "      <td>7.871935e-01</td>\n",
       "      <td>7.654572e-01</td>\n",
       "      <td>5.439995e-01</td>\n",
       "      <td>4.590593e-01</td>\n",
       "      <td>6.343651e-01</td>\n",
       "      <td>5.287224e-01</td>\n",
       "      <td>5.189340e-01</td>\n",
       "    </tr>\n",
       "    <tr>\n",
       "      <th>max</th>\n",
       "      <td>5.276952e+00</td>\n",
       "      <td>5.149060e+00</td>\n",
       "      <td>4.001587e+00</td>\n",
       "      <td>8.427907e+00</td>\n",
       "      <td>4.756432e+00</td>\n",
       "      <td>2.713112e+00</td>\n",
       "      <td>2.557863e+00</td>\n",
       "      <td>3.634533e+00</td>\n",
       "      <td>4.874434e+00</td>\n",
       "      <td>3.002976e+00</td>\n",
       "      <td>3.135457e+00</td>\n",
       "      <td>3.720285e+00</td>\n",
       "    </tr>\n",
       "  </tbody>\n",
       "</table>\n",
       "</div>"
      ],
      "text/plain": [
       "               chol      stab.glu           hdl         ratio         glyhb  \\\n",
       "count  3.770000e+02  3.770000e+02  3.770000e+02  3.770000e+02  3.770000e+02   \n",
       "mean   4.763357e-17 -1.172066e-16 -7.546277e-18  2.994952e-16 -5.771982e-17   \n",
       "std    1.001329e+00  1.001329e+00  1.001329e+00  1.001329e+00  1.001329e+00   \n",
       "min   -2.910109e+00 -1.104481e+00 -2.208293e+00 -1.729294e+00 -1.318707e+00   \n",
       "25%   -6.446481e-01 -4.921165e-01 -7.133216e-01 -7.592245e-01 -5.451789e-01   \n",
       "50%   -8.389052e-02 -3.251080e-01 -2.533306e-01 -1.885954e-01 -3.325715e-01   \n",
       "75%    4.992973e-01  8.909090e-03  4.941548e-01  4.961599e-01  1.574251e-02   \n",
       "max    5.276952e+00  5.149060e+00  4.001587e+00  8.427907e+00  4.756432e+00   \n",
       "\n",
       "                age        height        weight         bp.1s         bp.1d  \\\n",
       "count  3.770000e+02  3.770000e+02  3.770000e+02  3.770000e+02  3.770000e+02   \n",
       "mean  -1.613799e-16 -6.343290e-16  8.834666e-19 -1.949516e-16  1.094026e-16   \n",
       "std    1.001329e+00  1.001329e+00  1.001329e+00  1.001329e+00  1.001329e+00   \n",
       "min   -1.680389e+00 -3.587529e+00 -1.953152e+00 -2.051644e+00 -2.622474e+00   \n",
       "25%   -7.776150e-01 -7.708908e-01 -6.674897e-01 -6.664283e-01 -6.239592e-01   \n",
       "50%   -1.155806e-01 -2.716796e-03 -9.883150e-02 -6.039650e-02 -1.058257e-01   \n",
       "75%    7.871935e-01  7.654572e-01  5.439995e-01  4.590593e-01  6.343651e-01   \n",
       "max    2.713112e+00  2.557863e+00  3.634533e+00  4.874434e+00  3.002976e+00   \n",
       "\n",
       "              waist           hip  \n",
       "count  3.770000e+02  3.770000e+02  \n",
       "mean   4.649979e-16  4.588137e-16  \n",
       "std    1.001329e+00  1.001329e+00  \n",
       "min   -2.078013e+00 -2.326711e+00  \n",
       "25%   -8.615363e-01 -7.260358e-01  \n",
       "50%   -1.664069e-01 -1.924773e-01  \n",
       "75%    5.287224e-01  5.189340e-01  \n",
       "max    3.135457e+00  3.720285e+00  "
      ]
     },
     "execution_count": 28,
     "metadata": {},
     "output_type": "execute_result"
    }
   ],
   "source": [
    "scaled_data = prep.scale(df_num)  # Scale the data*\n",
    "\n",
    "# Note: preprocessing.scale() returns ndarrays so we have to convert it back into a DataFrame.\n",
    "scaled_diabetes_df = pd.DataFrame(scaled_data,    # Remake the DataFrame\n",
    "                           index=df_num.index,\n",
    "                           columns=df_num.columns)\n",
    "\n",
    "scaled_diabetes_df.describe()"
   ]
  },
  {
   "cell_type": "markdown",
   "metadata": {},
   "source": [
    "**Carefully take a look at the results above**\n",
    "\n",
    "Notice that the values are almost the same as those we calculated manually but not exactly the same. These small differences are likely due to rounding and details of the scikit-learn implementation of centering and scaling."
   ]
  },
  {
   "cell_type": "code",
   "execution_count": null,
   "metadata": {
    "collapsed": true
   },
   "outputs": [],
   "source": []
  }
 ],
 "metadata": {
  "kernelspec": {
   "display_name": "Python 3",
   "language": "python",
   "name": "python3"
  },
  "language_info": {
   "codemirror_mode": {
    "name": "ipython",
    "version": 3
   },
   "file_extension": ".py",
   "mimetype": "text/x-python",
   "name": "python",
   "nbconvert_exporter": "python",
   "pygments_lexer": "ipython3",
   "version": "3.7.1"
  }
 },
 "nbformat": 4,
 "nbformat_minor": 2
}
