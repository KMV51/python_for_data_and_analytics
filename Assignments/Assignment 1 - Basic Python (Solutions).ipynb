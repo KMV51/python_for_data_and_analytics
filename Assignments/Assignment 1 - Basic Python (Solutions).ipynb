{
 "cells": [
  {
   "cell_type": "markdown",
   "metadata": {},
   "source": [
    "## Python for Data Management and Analytics\n",
    "### Assignment 1"
   ]
  },
  {
   "cell_type": "markdown",
   "metadata": {},
   "source": [
    "**Task 1**\n",
    "\n",
    "* Consider the following list: nums = [1, 1, 2, 3, 5, 8, 13, 21, 34, 55, 89]\n",
    "* Write a program that:\n",
    "    1. Creates a new empty list called \"even\"\n",
    "    2. Populates the new list with values of all the elements from the first list (nums) that are even\n",
    "    3. Prints the contents of the second list\n",
    "\n",
    "* Note: You must use a _for_ loop, a modulus, and an _if_ statement to solve this problem"
   ]
  },
  {
   "cell_type": "code",
   "execution_count": 5,
   "metadata": {},
   "outputs": [
    {
     "name": "stdout",
     "output_type": "stream",
     "text": [
      "[2, 8, 34]\n"
     ]
    }
   ],
   "source": [
    "# Task 1 solution\n",
    "nums = [1, 1, 2, 3, 5, 8, 13, 21, 34, 55, 89]\n",
    "even = []\n",
    "\n",
    "for elem in nums:\n",
    "    if elem%2 == 0:\n",
    "        even.append(elem)\n",
    "\n",
    "print(even)"
   ]
  },
  {
   "cell_type": "markdown",
   "metadata": {},
   "source": [
    "**Task 2**\n",
    "* Consider the following two lists:\n",
    "    1. list_a = [1, 1, 2, 3, 5, 8, 13, 21, 34, 55, 89]\n",
    "    2. list_b = [1, 2, 3, 4, 5, 6, 7, 8, 9, 10, 11, 12, 13]\n",
    "* Write a program that:\n",
    "    1. Creates a new list called \"overlap\"\n",
    "    2. Iterates through _list_a_ and _list_b_\n",
    "    3. Finds operlaps (numbers that occur in both lists)\n",
    "    4. Stores the overlapping numbers in the \"overlap\" list\n",
    "    5. Prints the \"overlap\" list"
   ]
  },
  {
   "cell_type": "code",
   "execution_count": 7,
   "metadata": {},
   "outputs": [
    {
     "name": "stdout",
     "output_type": "stream",
     "text": [
      "[1, 1, 2, 3, 5, 8, 13]\n"
     ]
    }
   ],
   "source": [
    "# Task 2 solution\n",
    "list_a = [1, 1, 2, 3, 5, 8, 13, 21, 34, 55, 89]\n",
    "list_b = [1, 2, 3, 4, 5, 6, 7, 8, 9, 10, 11, 12, 13]\n",
    "overlap = []\n",
    "\n",
    "for elem in list_a:\n",
    "    if elem in list_b:\n",
    "        overlap.append(elem)\n",
    "\n",
    "print(overlap)"
   ]
  },
  {
   "cell_type": "markdown",
   "metadata": {},
   "source": [
    "**Task 3**\n",
    "\n",
    "* Write a program that asks the user how many Fibonnaci numbers to generate and then generates them. \n",
    "* Do not write custom Python functions and do not use recursion.  You should be able to accomplish this task with a single list and a single loop\n",
    "* You can initialize the list of Fibonnaci numbers with the first two elements. Example: fib = [1, 1]\n",
    "* Before each line of code in your solution, provide a comment explaining what each step does!\n",
    "* _Hint_: Do not forget to convert user input from a string to an integer (remember typecasting)"
   ]
  },
  {
   "cell_type": "code",
   "execution_count": 12,
   "metadata": {},
   "outputs": [
    {
     "name": "stdout",
     "output_type": "stream",
     "text": [
      "Please enter the number of elements in the Fibonnaci sequence: 50\n",
      "[1, 1, 2, 3, 5, 8, 13, 21, 34, 55, 89, 144, 233, 377, 610, 987, 1597, 2584, 4181, 6765, 10946, 17711, 28657, 46368, 75025, 121393, 196418, 317811, 514229, 832040, 1346269, 2178309, 3524578, 5702887, 9227465, 14930352, 24157817, 39088169, 63245986, 102334155, 165580141, 267914296, 433494437, 701408733, 1134903170, 1836311903, 2971215073, 4807526976, 7778742049, 12586269025]\n"
     ]
    }
   ],
   "source": [
    "# Task 3 solution\n",
    "\n",
    "# Get user input\n",
    "user_input = input(\"Please enter the number of elements in the Fibonnaci sequence: \")\n",
    "\n",
    "# Typcast user input to an integer\n",
    "user_input_num = int(user_input)\n",
    "\n",
    "# Initialize a list that would hold the Fibonnaci sequence\n",
    "fib = [1, 1]\n",
    "\n",
    "# Iterate through all the numbers from 2 to limit set by the user\n",
    "# We start at two because the first two values have already been \n",
    "# specified\n",
    "for i in range(2, user_input_num):\n",
    "    val = fib[i-2] + fib[i-1]\n",
    "    fib.append(val)\n",
    "    \n",
    "print(fib)"
   ]
  },
  {
   "cell_type": "markdown",
   "metadata": {},
   "source": [
    "**Task 4**\n",
    "* Write a program that:\n",
    "    * Asks the user to enter a message (a word or a sentence)\n",
    "    * Creates a simple shift cypher that shifts letters by 3.  In other words, A becomes D, V becomes Y, and Z becomes C.\n",
    "    * For the purposes of this assignment:\n",
    "        * You can start with a hardcoded list of letters\n",
    "        * Make the cypher case-insensitive (you can convert user input to lower case)\n",
    "    * Print the original and the encrypted messages\n",
    "    * Before each line of code in your solution, provide a comment explaining what each step does!"
   ]
  },
  {
   "cell_type": "code",
   "execution_count": null,
   "metadata": {},
   "outputs": [],
   "source": [
    "# Task 4 solution\n",
    "\n",
    "# All letters in the English alphabet\n",
    "alphabet = ['a','b','c','d','e','f','g','h','i','j','k','l','m','n','o','p','q','r','s','t','u','v','w','x','y','z']\n",
    "\n",
    "# Encrypted string will be stored in \"result\"\n",
    "result = \"\"\n",
    "\n",
    "# How many letters the cypher will shift by\n",
    "shift = 3\n",
    "\n",
    "# Ask user to input a message\n",
    "message = input(\"Please enter a message that you would like to encode: \")\n",
    "\n",
    "# Convert user input to lower case\n",
    "message = message.lower()\n",
    "\n",
    "# Iterate through the letter in the message\n",
    "for letter in message:\n",
    "    # Iterate through the letters of the alphabet\n",
    "    for i in range(len(alphabet)):\n",
    "        # If the letter from the message and the alphabet match\n",
    "        if letter == alphabet[i]:\n",
    "            # Shift letter's position by 3 (the value of \"shift\")\n",
    "            new_pos = i + shift\n",
    "            # If the letter's position is greater than the length of \n",
    "            # alphabet - shift (26 - 3), start at the beginning of the \n",
    "            # alphabet list\n",
    "            if (new_pos) > (len(alphabet) - 1):\n",
    "                new_pos = abs(new_pos - len(alphabet))\n",
    "            \n",
    "            # Add shifted letter to the result\n",
    "            result = result + alphabet[new_pos]\n",
    "\n",
    "# Print results\n",
    "print(\"Oringial message: \" + message)\n",
    "print(\"Encrypted message: \" + result)\n",
    "            \n",
    "    \n",
    "\n",
    "  "
   ]
  },
  {
   "cell_type": "code",
   "execution_count": null,
   "metadata": {},
   "outputs": [],
   "source": []
  }
 ],
 "metadata": {
  "kernelspec": {
   "display_name": "Python 3",
   "language": "python",
   "name": "python3"
  },
  "language_info": {
   "codemirror_mode": {
    "name": "ipython",
    "version": 3
   },
   "file_extension": ".py",
   "mimetype": "text/x-python",
   "name": "python",
   "nbconvert_exporter": "python",
   "pygments_lexer": "ipython3",
   "version": "3.7.4"
  }
 },
 "nbformat": 4,
 "nbformat_minor": 2
}
